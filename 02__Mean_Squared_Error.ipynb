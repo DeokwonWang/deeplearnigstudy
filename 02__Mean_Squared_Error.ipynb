{
  "nbformat": 4,
  "nbformat_minor": 0,
  "metadata": {
    "colab": {
      "name": "02._Mean_Squared_Error.ipynb",
      "provenance": [],
      "collapsed_sections": [],
      "authorship_tag": "ABX9TyPhOyWv2a78zAT+8YlIm1/x",
      "include_colab_link": true
    },
    "kernelspec": {
      "name": "python3",
      "display_name": "Python 3"
    }
  },
  "cells": [
    {
      "cell_type": "markdown",
      "metadata": {
        "id": "view-in-github",
        "colab_type": "text"
      },
      "source": [
        "<a href=\"https://colab.research.google.com/github/DeokwonWang/deeplearnigstudy/blob/main/02__Mean_Squared_Error.ipynb\" target=\"_parent\"><img src=\"https://colab.research.google.com/assets/colab-badge.svg\" alt=\"Open In Colab\"/></a>"
      ]
    },
    {
      "cell_type": "code",
      "metadata": {
        "id": "9uNEx9rnOxK4",
        "colab": {
          "base_uri": "https://localhost:8080/",
          "height": 107
        },
        "outputId": "13fc6a1e-f4f5-4ba3-b0ed-e5dc0906595a"
      },
      "source": [
        "import numpy as np\n",
        "\n",
        "# 가상의 기울기 a와 y절편 b\n",
        "fake_a_b=[3, 76]\n",
        "\n",
        "# x : 공부한 시간, y = 받은 성적\n",
        "data=[[2, 81],[4, 93],[6, 91],[8, 97]]\n",
        "x=[i[0] for i in data]\n",
        "y=[i[1] for i in data]\n",
        "\n",
        "# predict() : y=ax+b 에 a와 b의 값을 대입하여 결과를 출력하는 함수\n",
        "def predict(x):\n",
        "  return fake_a_b[0]*x+fake_a_b[1]\n",
        "\n",
        "# MSE 함수\n",
        "def mse(y, y_hat):\n",
        "  return ((y-y_hat)**2).mean()\n",
        "\n",
        "# MSE 함수를 각 y값에 대입하여 최종 값을 구하는 함수\n",
        "def mse_val(y, predict_result):\n",
        "  return mse(np.array(y), np.array(predict_result))\n",
        "\n",
        "# 예측값 만들기\n",
        "predict_result=[]      # 빈 리스트로 변수선언\n",
        "\n",
        "# predict_result에 값을 대입 해주는 식\n",
        "for i in range(len(x)):\n",
        "  predict_result.append(predict(x[i]))\n",
        "  print('공부시간 =%.f, 실제점수 =%.f, 예측점수 =%.f' % (x[i], y[i], predict(x[i])))\n",
        "\n",
        "# MSE 출력\n",
        "print(\"MSE 최종값 : \", mse_val(y, predict_result))"
      ],
      "execution_count": null,
      "outputs": [
        {
          "output_type": "stream",
          "text": [
            "공부시간 =2, 실제점수 =81, 예측점수 =82\n",
            "공부시간 =4, 실제점수 =93, 예측점수 =88\n",
            "공부시간 =6, 실제점수 =91, 예측점수 =94\n",
            "공부시간 =8, 실제점수 =97, 예측점수 =100\n",
            "MSE 최종값 :  11.0\n"
          ],
          "name": "stdout"
        }
      ]
    }
  ]
}