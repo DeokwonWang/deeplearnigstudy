{
  "nbformat": 4,
  "nbformat_minor": 0,
  "metadata": {
    "colab": {
      "name": "visionapi.ipynb",
      "provenance": [],
      "authorship_tag": "ABX9TyMvx5gg51hwmqGIy/JlAskz",
      "include_colab_link": true
    },
    "kernelspec": {
      "name": "python3",
      "display_name": "Python 3"
    },
    "language_info": {
      "name": "python"
    }
  },
  "cells": [
    {
      "cell_type": "markdown",
      "metadata": {
        "id": "view-in-github",
        "colab_type": "text"
      },
      "source": [
        "<a href=\"https://colab.research.google.com/github/DeokwonWang/deeplearnigstudy/blob/main/visionapi.ipynb\" target=\"_parent\"><img src=\"https://colab.research.google.com/assets/colab-badge.svg\" alt=\"Open In Colab\"/></a>"
      ]
    },
    {
      "cell_type": "code",
      "metadata": {
        "colab": {
          "base_uri": "https://localhost:8080/"
        },
        "id": "-rFLoI_Un5Q2",
        "outputId": "5b1b64cc-e80a-4e4d-85f5-03c910e8a6f5"
      },
      "source": [
        "!pip install google-cloud-vision"
      ],
      "execution_count": 1,
      "outputs": [
        {
          "output_type": "stream",
          "text": [
            "Requirement already satisfied: google-cloud-vision in /usr/local/lib/python3.7/dist-packages (2.2.0)\n",
            "Requirement already satisfied: libcst>=0.2.5 in /usr/local/lib/python3.7/dist-packages (from google-cloud-vision) (0.3.17)\n",
            "Requirement already satisfied: google-api-core[grpc]<2.0.0dev,>=1.22.2 in /usr/local/lib/python3.7/dist-packages (from google-cloud-vision) (1.26.1)\n",
            "Requirement already satisfied: proto-plus>=1.4.0 in /usr/local/lib/python3.7/dist-packages (from google-cloud-vision) (1.18.1)\n",
            "Requirement already satisfied: pyyaml>=5.2 in /usr/local/lib/python3.7/dist-packages (from libcst>=0.2.5->google-cloud-vision) (5.4.1)\n",
            "Requirement already satisfied: typing-extensions>=3.7.4.2 in /usr/local/lib/python3.7/dist-packages (from libcst>=0.2.5->google-cloud-vision) (3.7.4.3)\n",
            "Requirement already satisfied: typing-inspect>=0.4.0 in /usr/local/lib/python3.7/dist-packages (from libcst>=0.2.5->google-cloud-vision) (0.6.0)\n",
            "Requirement already satisfied: requests<3.0.0dev,>=2.18.0 in /usr/local/lib/python3.7/dist-packages (from google-api-core[grpc]<2.0.0dev,>=1.22.2->google-cloud-vision) (2.23.0)\n",
            "Requirement already satisfied: setuptools>=40.3.0 in /usr/local/lib/python3.7/dist-packages (from google-api-core[grpc]<2.0.0dev,>=1.22.2->google-cloud-vision) (54.1.2)\n",
            "Requirement already satisfied: pytz in /usr/local/lib/python3.7/dist-packages (from google-api-core[grpc]<2.0.0dev,>=1.22.2->google-cloud-vision) (2018.9)\n",
            "Requirement already satisfied: protobuf>=3.12.0 in /usr/local/lib/python3.7/dist-packages (from google-api-core[grpc]<2.0.0dev,>=1.22.2->google-cloud-vision) (3.12.4)\n",
            "Requirement already satisfied: six>=1.13.0 in /usr/local/lib/python3.7/dist-packages (from google-api-core[grpc]<2.0.0dev,>=1.22.2->google-cloud-vision) (1.15.0)\n",
            "Requirement already satisfied: google-auth<2.0dev,>=1.21.1 in /usr/local/lib/python3.7/dist-packages (from google-api-core[grpc]<2.0.0dev,>=1.22.2->google-cloud-vision) (1.27.1)\n",
            "Requirement already satisfied: packaging>=14.3 in /usr/local/lib/python3.7/dist-packages (from google-api-core[grpc]<2.0.0dev,>=1.22.2->google-cloud-vision) (20.9)\n",
            "Requirement already satisfied: googleapis-common-protos<2.0dev,>=1.6.0 in /usr/local/lib/python3.7/dist-packages (from google-api-core[grpc]<2.0.0dev,>=1.22.2->google-cloud-vision) (1.53.0)\n",
            "Requirement already satisfied: grpcio<2.0dev,>=1.29.0; extra == \"grpc\" in /usr/local/lib/python3.7/dist-packages (from google-api-core[grpc]<2.0.0dev,>=1.22.2->google-cloud-vision) (1.32.0)\n",
            "Requirement already satisfied: mypy-extensions>=0.3.0 in /usr/local/lib/python3.7/dist-packages (from typing-inspect>=0.4.0->libcst>=0.2.5->google-cloud-vision) (0.4.3)\n",
            "Requirement already satisfied: urllib3!=1.25.0,!=1.25.1,<1.26,>=1.21.1 in /usr/local/lib/python3.7/dist-packages (from requests<3.0.0dev,>=2.18.0->google-api-core[grpc]<2.0.0dev,>=1.22.2->google-cloud-vision) (1.24.3)\n",
            "Requirement already satisfied: certifi>=2017.4.17 in /usr/local/lib/python3.7/dist-packages (from requests<3.0.0dev,>=2.18.0->google-api-core[grpc]<2.0.0dev,>=1.22.2->google-cloud-vision) (2020.12.5)\n",
            "Requirement already satisfied: idna<3,>=2.5 in /usr/local/lib/python3.7/dist-packages (from requests<3.0.0dev,>=2.18.0->google-api-core[grpc]<2.0.0dev,>=1.22.2->google-cloud-vision) (2.10)\n",
            "Requirement already satisfied: chardet<4,>=3.0.2 in /usr/local/lib/python3.7/dist-packages (from requests<3.0.0dev,>=2.18.0->google-api-core[grpc]<2.0.0dev,>=1.22.2->google-cloud-vision) (3.0.4)\n",
            "Requirement already satisfied: pyasn1-modules>=0.2.1 in /usr/local/lib/python3.7/dist-packages (from google-auth<2.0dev,>=1.21.1->google-api-core[grpc]<2.0.0dev,>=1.22.2->google-cloud-vision) (0.2.8)\n",
            "Requirement already satisfied: cachetools<5.0,>=2.0.0 in /usr/local/lib/python3.7/dist-packages (from google-auth<2.0dev,>=1.21.1->google-api-core[grpc]<2.0.0dev,>=1.22.2->google-cloud-vision) (4.2.1)\n",
            "Requirement already satisfied: rsa<5,>=3.1.4; python_version >= \"3.6\" in /usr/local/lib/python3.7/dist-packages (from google-auth<2.0dev,>=1.21.1->google-api-core[grpc]<2.0.0dev,>=1.22.2->google-cloud-vision) (4.7.2)\n",
            "Requirement already satisfied: pyparsing>=2.0.2 in /usr/local/lib/python3.7/dist-packages (from packaging>=14.3->google-api-core[grpc]<2.0.0dev,>=1.22.2->google-cloud-vision) (2.4.7)\n",
            "Requirement already satisfied: pyasn1<0.5.0,>=0.4.6 in /usr/local/lib/python3.7/dist-packages (from pyasn1-modules>=0.2.1->google-auth<2.0dev,>=1.21.1->google-api-core[grpc]<2.0.0dev,>=1.22.2->google-cloud-vision) (0.4.8)\n"
          ],
          "name": "stdout"
        }
      ]
    },
    {
      "cell_type": "code",
      "metadata": {
        "colab": {
          "base_uri": "https://localhost:8080/"
        },
        "id": "AbSsOuomv3XN",
        "outputId": "a521944b-e6eb-4bbe-8acf-da74c20f858b"
      },
      "source": [
        "from google.colab import drive\n",
        "drive.mount('/content/drive')"
      ],
      "execution_count": 10,
      "outputs": [
        {
          "output_type": "stream",
          "text": [
            "Mounted at /content/drive\n"
          ],
          "name": "stdout"
        }
      ]
    },
    {
      "cell_type": "code",
      "metadata": {
        "id": "Vjk23BBrp31O"
      },
      "source": [
        "import os\n",
        "os.environ[\"GOOGLE_APPLICATION_CREDENTIALS\"]=\"/content/drive/MyDrive/My First Project-aba0d3f5ca08.json\""
      ],
      "execution_count": 11,
      "outputs": []
    },
    {
      "cell_type": "code",
      "metadata": {
        "id": "EcS-O7k1nTUC"
      },
      "source": [
        "def localize_objects_uri(uri):\n",
        "    \"\"\"Localize objects in the image on Google Cloud Storage\n",
        "\n",
        "    Args:\n",
        "    uri: The path to the file in Google Cloud Storage (gs://...)\n",
        "    \"\"\"\n",
        "    from google.cloud import vision\n",
        "    client = vision.ImageAnnotatorClient()\n",
        "\n",
        "    image = vision.Image()\n",
        "    image.source.image_uri = uri\n",
        "\n",
        "    objects = client.object_localization(image=image).localized_object_annotations\n",
        "\n",
        "    print('Number of objects found: {}'.format(len(objects)))\n",
        "    for object_ in objects:\n",
        "        print('\\n{} (confidence: {})'.format(object_.name, object_.score))\n",
        "        print('Normalized bounding polygon vertices: ')\n",
        "        for vertex in object_.bounding_poly.normalized_vertices:\n",
        "            print(' - ({}, {})'.format(vertex.x, vertex.y))"
      ],
      "execution_count": 14,
      "outputs": []
    },
    {
      "cell_type": "code",
      "metadata": {
        "colab": {
          "base_uri": "https://localhost:8080/"
        },
        "id": "Nw4pGkwJncoS",
        "outputId": "8190f89c-847b-4d6b-a346-e364fd86bf04"
      },
      "source": [
        "localize_objects_uri('gs://cinema_graph/cinemagraph_JPG/03_2829652/03_2829652_1.jpg')"
      ],
      "execution_count": 22,
      "outputs": [
        {
          "output_type": "stream",
          "text": [
            "Number of objects found: 3\n",
            "\n",
            "Glasses (confidence: 0.9324515461921692)\n",
            "Normalized bounding polygon vertices: \n",
            " - (0.21159453690052032, 0.3095572292804718)\n",
            " - (0.525013267993927, 0.3095572292804718)\n",
            " - (0.525013267993927, 0.5461937785148621)\n",
            " - (0.21159453690052032, 0.5461937785148621)\n",
            "\n",
            "Tie (confidence: 0.7932912707328796)\n",
            "Normalized bounding polygon vertices: \n",
            " - (0.2842687666416168, 0.8294959664344788)\n",
            " - (0.3758319914340973, 0.8294959664344788)\n",
            " - (0.3758319914340973, 0.9973958134651184)\n",
            " - (0.2842687666416168, 0.9973958134651184)\n",
            "\n",
            "Person (confidence: 0.7615695595741272)\n",
            "Normalized bounding polygon vertices: \n",
            " - (0.013723335228860378, 0.01337867695838213)\n",
            " - (0.7680343985557556, 0.01337867695838213)\n",
            " - (0.7680343985557556, 0.9906826019287109)\n",
            " - (0.013723335228860378, 0.9906826019287109)\n"
          ],
          "name": "stdout"
        }
      ]
    },
    {
      "cell_type": "code",
      "metadata": {
        "id": "suM-BCNE0CfG"
      },
      "source": [
        "def detect_properties_uri(uri):\n",
        "    \"\"\"Detects image properties in the file located in Google Cloud Storage or\n",
        "    on the Web.\"\"\"\n",
        "    from google.cloud import vision\n",
        "    client = vision.ImageAnnotatorClient()\n",
        "    image = vision.Image()\n",
        "    image.source.image_uri = uri\n",
        "\n",
        "    response = client.image_properties(image=image)\n",
        "    props = response.image_properties_annotation\n",
        "    print('Properties:')\n",
        "\n",
        "    for color in props.dominant_colors.colors:\n",
        "        print('frac: {}'.format(color.pixel_fraction))\n",
        "        print('\\tr: {}'.format(color.color.red))\n",
        "        print('\\tg: {}'.format(color.color.green))\n",
        "        print('\\tb: {}'.format(color.color.blue))\n",
        "        print('\\ta: {}'.format(color.color.alpha))\n",
        "\n",
        "    if response.error.message:\n",
        "        raise Exception(\n",
        "            '{}\\nFor more info on error messages, check: '\n",
        "            'https://cloud.google.com/apis/design/errors'.format(\n",
        "                response.error.message))"
      ],
      "execution_count": 23,
      "outputs": []
    },
    {
      "cell_type": "code",
      "metadata": {
        "colab": {
          "base_uri": "https://localhost:8080/"
        },
        "id": "7fL6fSzW0D0g",
        "outputId": "5ab9282f-3b9a-4a34-bf84-dec3450076db"
      },
      "source": [
        "detect_properties_uri('gs://cinema_graph/cinemagraph_JPG/03_2829652/03_2829652_1.jpg')"
      ],
      "execution_count": 24,
      "outputs": [
        {
          "output_type": "stream",
          "text": [
            "Properties:\n",
            "frac: 0.3326510787010193\n",
            "\tr: 21.0\n",
            "\tg: 25.0\n",
            "\tb: 17.0\n",
            "\ta: \n",
            "frac: 0.14931774139404297\n",
            "\tr: 53.0\n",
            "\tg: 52.0\n",
            "\tb: 35.0\n",
            "\ta: \n",
            "frac: 0.14590643346309662\n",
            "\tr: 86.0\n",
            "\tg: 88.0\n",
            "\tb: 74.0\n",
            "\ta: \n",
            "frac: 0.14678362011909485\n",
            "\tr: 92.0\n",
            "\tg: 85.0\n",
            "\tb: 64.0\n",
            "\ta: \n",
            "frac: 0.14658869802951813\n",
            "\tr: 51.0\n",
            "\tg: 53.0\n",
            "\tb: 40.0\n",
            "\ta: \n",
            "frac: 0.027387913316488266\n",
            "\tr: 119.0\n",
            "\tg: 111.0\n",
            "\tb: 88.0\n",
            "\ta: \n",
            "frac: 0.0317738801240921\n",
            "\tr: 112.0\n",
            "\tg: 114.0\n",
            "\tb: 101.0\n",
            "\ta: \n",
            "frac: 0.01208577025681734\n",
            "\tr: 32.0\n",
            "\tg: 32.0\n",
            "\tb: 17.0\n",
            "\ta: \n",
            "frac: 0.0045808968134224415\n",
            "\tr: 150.0\n",
            "\tg: 151.0\n",
            "\tb: 137.0\n",
            "\ta: \n",
            "frac: 0.002436647191643715\n",
            "\tr: 148.0\n",
            "\tg: 148.0\n",
            "\tb: 130.0\n",
            "\ta: \n"
          ],
          "name": "stdout"
        }
      ]
    },
    {
      "cell_type": "code",
      "metadata": {
        "id": "9eXhyeeIpUH4"
      },
      "source": [
        "def implicit():\n",
        "    from google.cloud import storage\n",
        "\n",
        "    # If you don't specify credentials when constructing the client, the\n",
        "    # client library will look for credentials in the environment.\n",
        "    storage_client = storage.Client()\n",
        "\n",
        "    # Make an authenticated API request\n",
        "    buckets = list(storage_client.list_buckets())\n",
        "    print(buckets)"
      ],
      "execution_count": 12,
      "outputs": []
    },
    {
      "cell_type": "code",
      "metadata": {
        "colab": {
          "base_uri": "https://localhost:8080/"
        },
        "id": "MYc0-sSMpVdC",
        "outputId": "05b4313d-ab8f-4ac5-8a72-761849cbdbbd"
      },
      "source": [
        "implicit()"
      ],
      "execution_count": 13,
      "outputs": [
        {
          "output_type": "stream",
          "text": [
            "[<Bucket: cinema_graph>]\n"
          ],
          "name": "stdout"
        }
      ]
    }
  ]
}