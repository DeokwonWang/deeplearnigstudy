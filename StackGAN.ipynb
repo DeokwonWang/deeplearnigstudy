{
  "nbformat": 4,
  "nbformat_minor": 0,
  "metadata": {
    "colab": {
      "name": "StackGAN.ipynb",
      "provenance": [],
      "collapsed_sections": [],
      "authorship_tag": "ABX9TyPRs+oazoUKZ57zzG1S8cHP",
      "include_colab_link": true
    },
    "kernelspec": {
      "name": "python3",
      "display_name": "Python 3"
    },
    "accelerator": "GPU"
  },
  "cells": [
    {
      "cell_type": "markdown",
      "metadata": {
        "id": "view-in-github",
        "colab_type": "text"
      },
      "source": [
        "<a href=\"https://colab.research.google.com/github/DeokwonWang/deeplearnigstudy/blob/main/StackGAN.ipynb\" target=\"_parent\"><img src=\"https://colab.research.google.com/assets/colab-badge.svg\" alt=\"Open In Colab\"/></a>"
      ]
    },
    {
      "cell_type": "code",
      "metadata": {
        "id": "9iJnJLovMFr5",
        "colab": {
          "base_uri": "https://localhost:8080/"
        },
        "outputId": "1e60d31a-01a6-4f69-e60e-6824f2694741"
      },
      "source": [
        "from google.colab import drive \r\n",
        "\r\n",
        "drive.mount('/content/gdrive/')"
      ],
      "execution_count": null,
      "outputs": [
        {
          "output_type": "stream",
          "text": [
            "Mounted at /content/gdrive/\n"
          ],
          "name": "stdout"
        }
      ]
    },
    {
      "cell_type": "code",
      "metadata": {
        "id": "e2dLvveQP7iI",
        "colab": {
          "base_uri": "https://localhost:8080/"
        },
        "outputId": "585208b8-a4bf-471f-f524-5982301d5bad"
      },
      "source": [
        "cd '/content/gdrive/MyDrive/colab/StackGAN'"
      ],
      "execution_count": null,
      "outputs": [
        {
          "output_type": "stream",
          "text": [
            "/content/gdrive/MyDrive/colab/StackGAN\n"
          ],
          "name": "stdout"
        }
      ]
    },
    {
      "cell_type": "markdown",
      "metadata": {
        "id": "vhckPEXCjuqs"
      },
      "source": [
        "."
      ]
    },
    {
      "cell_type": "code",
      "metadata": {
        "colab": {
          "base_uri": "https://localhost:8080/"
        },
        "id": "jNNAZLpi4yYV",
        "outputId": "fc3fc103-39aa-4ef9-d7ea-673a162d8fec"
      },
      "source": [
        "import os\r\n",
        "os.environ['PYTHONPATH'] += \":/content/gdrive/My Drive/colab/StackGAN\"\r\n",
        "\r\n",
        "! echo $PYTHONPATH"
      ],
      "execution_count": null,
      "outputs": [
        {
          "output_type": "stream",
          "text": [
            "/env/python:/content/gdrive/My Drive/colab/StackGAN\n"
          ],
          "name": "stdout"
        }
      ]
    },
    {
      "cell_type": "code",
      "metadata": {
        "colab": {
          "base_uri": "https://localhost:8080/",
          "height": 720
        },
        "id": "dj4s8ipkQiaP",
        "outputId": "e910b461-5dc7-4b0b-f1d9-d35c07192838"
      },
      "source": [
        "!pip install prettytensor\r\n",
        "!pip install progressbar\r\n",
        "!pip install python-dateutil\r\n",
        "!pip install easydict\r\n",
        "!pip install pandas\r\n",
        "!pip install torchfile"
      ],
      "execution_count": null,
      "outputs": [
        {
          "output_type": "stream",
          "text": [
            "Collecting prettytensor\n",
            "\u001b[?25l  Downloading https://files.pythonhosted.org/packages/58/59/2a3c18beda72813be70203a76d6cb610fe90f74edcd965d029ebc212be79/prettytensor-0.7.4-py3-none-any.whl (276kB)\n",
            "\r\u001b[K     |█▏                              | 10kB 17.5MB/s eta 0:00:01\r\u001b[K     |██▍                             | 20kB 9.7MB/s eta 0:00:01\r\u001b[K     |███▋                            | 30kB 7.5MB/s eta 0:00:01\r\u001b[K     |████▊                           | 40kB 6.8MB/s eta 0:00:01\r\u001b[K     |██████                          | 51kB 4.2MB/s eta 0:00:01\r\u001b[K     |███████▏                        | 61kB 4.7MB/s eta 0:00:01\r\u001b[K     |████████▎                       | 71kB 4.8MB/s eta 0:00:01\r\u001b[K     |█████████▌                      | 81kB 5.1MB/s eta 0:00:01\r\u001b[K     |██████████▊                     | 92kB 5.4MB/s eta 0:00:01\r\u001b[K     |███████████▉                    | 102kB 5.5MB/s eta 0:00:01\r\u001b[K     |█████████████                   | 112kB 5.5MB/s eta 0:00:01\r\u001b[K     |██████████████▎                 | 122kB 5.5MB/s eta 0:00:01\r\u001b[K     |███████████████▍                | 133kB 5.5MB/s eta 0:00:01\r\u001b[K     |████████████████▋               | 143kB 5.5MB/s eta 0:00:01\r\u001b[K     |█████████████████▉              | 153kB 5.5MB/s eta 0:00:01\r\u001b[K     |███████████████████             | 163kB 5.5MB/s eta 0:00:01\r\u001b[K     |████████████████████▏           | 174kB 5.5MB/s eta 0:00:01\r\u001b[K     |█████████████████████▍          | 184kB 5.5MB/s eta 0:00:01\r\u001b[K     |██████████████████████▌         | 194kB 5.5MB/s eta 0:00:01\r\u001b[K     |███████████████████████▊        | 204kB 5.5MB/s eta 0:00:01\r\u001b[K     |█████████████████████████       | 215kB 5.5MB/s eta 0:00:01\r\u001b[K     |██████████████████████████      | 225kB 5.5MB/s eta 0:00:01\r\u001b[K     |███████████████████████████▎    | 235kB 5.5MB/s eta 0:00:01\r\u001b[K     |████████████████████████████▌   | 245kB 5.5MB/s eta 0:00:01\r\u001b[K     |█████████████████████████████▋  | 256kB 5.5MB/s eta 0:00:01\r\u001b[K     |██████████████████████████████▉ | 266kB 5.5MB/s eta 0:00:01\r\u001b[K     |████████████████████████████████| 276kB 5.5MB/s \n",
            "\u001b[?25hRequirement already satisfied: six>=1.10.0 in /usr/local/lib/python3.6/dist-packages (from prettytensor) (1.15.0)\n",
            "Collecting enum34>=1.0.0\n",
            "  Downloading https://files.pythonhosted.org/packages/63/f6/ccb1c83687756aeabbf3ca0f213508fcfb03883ff200d201b3a4c60cedcc/enum34-1.1.10-py3-none-any.whl\n",
            "Installing collected packages: enum34, prettytensor\n",
            "Successfully installed enum34-1.1.10 prettytensor-0.7.4\n"
          ],
          "name": "stdout"
        },
        {
          "output_type": "display_data",
          "data": {
            "application/vnd.colab-display-data+json": {
              "pip_warning": {
                "packages": [
                  "enum"
                ]
              }
            }
          },
          "metadata": {
            "tags": []
          }
        },
        {
          "output_type": "stream",
          "text": [
            "Collecting progressbar\n",
            "  Downloading https://files.pythonhosted.org/packages/a3/a6/b8e451f6cff1c99b4747a2f7235aa904d2d49e8e1464e0b798272aa84358/progressbar-2.5.tar.gz\n",
            "Building wheels for collected packages: progressbar\n",
            "  Building wheel for progressbar (setup.py) ... \u001b[?25l\u001b[?25hdone\n",
            "  Created wheel for progressbar: filename=progressbar-2.5-cp36-none-any.whl size=12075 sha256=6ba62ca78592c3b8bb1420b9dffb65553c153aa41e28417c8fc7064237e194ea\n",
            "  Stored in directory: /root/.cache/pip/wheels/c0/e9/6b/ea01090205e285175842339aa3b491adeb4015206cda272ff0\n",
            "Successfully built progressbar\n",
            "Installing collected packages: progressbar\n",
            "Successfully installed progressbar-2.5\n",
            "Requirement already satisfied: python-dateutil in /usr/local/lib/python3.6/dist-packages (2.8.1)\n",
            "Requirement already satisfied: six>=1.5 in /usr/local/lib/python3.6/dist-packages (from python-dateutil) (1.15.0)\n",
            "Requirement already satisfied: easydict in /usr/local/lib/python3.6/dist-packages (1.9)\n",
            "Requirement already satisfied: pandas in /usr/local/lib/python3.6/dist-packages (1.1.5)\n",
            "Requirement already satisfied: python-dateutil>=2.7.3 in /usr/local/lib/python3.6/dist-packages (from pandas) (2.8.1)\n",
            "Requirement already satisfied: pytz>=2017.2 in /usr/local/lib/python3.6/dist-packages (from pandas) (2018.9)\n",
            "Requirement already satisfied: numpy>=1.15.4 in /usr/local/lib/python3.6/dist-packages (from pandas) (1.19.5)\n",
            "Requirement already satisfied: six>=1.5 in /usr/local/lib/python3.6/dist-packages (from python-dateutil>=2.7.3->pandas) (1.15.0)\n",
            "Collecting torchfile\n",
            "  Downloading https://files.pythonhosted.org/packages/91/af/5b305f86f2d218091af657ddb53f984ecbd9518ca9fe8ef4103a007252c9/torchfile-0.1.0.tar.gz\n",
            "Building wheels for collected packages: torchfile\n",
            "  Building wheel for torchfile (setup.py) ... \u001b[?25l\u001b[?25hdone\n",
            "  Created wheel for torchfile: filename=torchfile-0.1.0-cp36-none-any.whl size=5713 sha256=e841a7adef7249970815333683a7c0d26100349b5db3f4ee1ee91012903051a5\n",
            "  Stored in directory: /root/.cache/pip/wheels/b1/c3/d6/9a1cc8f3a99a0fc1124cae20153f36af59a6e683daca0a0814\n",
            "Successfully built torchfile\n",
            "Installing collected packages: torchfile\n",
            "Successfully installed torchfile-0.1.0\n"
          ],
          "name": "stdout"
        }
      ]
    },
    {
      "cell_type": "code",
      "metadata": {
        "colab": {
          "base_uri": "https://localhost:8080/"
        },
        "id": "LurrNyjXYikA",
        "outputId": "b681c504-cb1d-45a0-aae4-dea56df85072"
      },
      "source": [
        "!pip install ipdb"
      ],
      "execution_count": null,
      "outputs": [
        {
          "output_type": "stream",
          "text": [
            "Collecting ipdb\n",
            "  Downloading https://files.pythonhosted.org/packages/44/8c/76b33b115f4f2c090e2809a0247fe777eb3832f9d606479bf0139b29ca2c/ipdb-0.13.4.tar.gz\n",
            "Requirement already satisfied: setuptools in /usr/local/lib/python3.6/dist-packages (from ipdb) (53.0.0)\n",
            "Requirement already satisfied: ipython>=5.1.0 in /usr/local/lib/python3.6/dist-packages (from ipdb) (5.5.0)\n",
            "Requirement already satisfied: simplegeneric>0.8 in /usr/local/lib/python3.6/dist-packages (from ipython>=5.1.0->ipdb) (0.8.1)\n",
            "Requirement already satisfied: prompt-toolkit<2.0.0,>=1.0.4 in /usr/local/lib/python3.6/dist-packages (from ipython>=5.1.0->ipdb) (1.0.18)\n",
            "Requirement already satisfied: decorator in /usr/local/lib/python3.6/dist-packages (from ipython>=5.1.0->ipdb) (4.4.2)\n",
            "Requirement already satisfied: pexpect; sys_platform != \"win32\" in /usr/local/lib/python3.6/dist-packages (from ipython>=5.1.0->ipdb) (4.8.0)\n",
            "Requirement already satisfied: pygments in /usr/local/lib/python3.6/dist-packages (from ipython>=5.1.0->ipdb) (2.6.1)\n",
            "Requirement already satisfied: pickleshare in /usr/local/lib/python3.6/dist-packages (from ipython>=5.1.0->ipdb) (0.7.5)\n",
            "Requirement already satisfied: traitlets>=4.2 in /usr/local/lib/python3.6/dist-packages (from ipython>=5.1.0->ipdb) (4.3.3)\n",
            "Requirement already satisfied: six>=1.9.0 in /usr/local/lib/python3.6/dist-packages (from prompt-toolkit<2.0.0,>=1.0.4->ipython>=5.1.0->ipdb) (1.15.0)\n",
            "Requirement already satisfied: wcwidth in /usr/local/lib/python3.6/dist-packages (from prompt-toolkit<2.0.0,>=1.0.4->ipython>=5.1.0->ipdb) (0.2.5)\n",
            "Requirement already satisfied: ptyprocess>=0.5 in /usr/local/lib/python3.6/dist-packages (from pexpect; sys_platform != \"win32\"->ipython>=5.1.0->ipdb) (0.7.0)\n",
            "Requirement already satisfied: ipython-genutils in /usr/local/lib/python3.6/dist-packages (from traitlets>=4.2->ipython>=5.1.0->ipdb) (0.2.0)\n",
            "Building wheels for collected packages: ipdb\n",
            "  Building wheel for ipdb (setup.py) ... \u001b[?25l\u001b[?25hdone\n",
            "  Created wheel for ipdb: filename=ipdb-0.13.4-cp36-none-any.whl size=10973 sha256=42a98bff167c8482b4c50c083339e7bfb52671f3a37c18e82cc118a8d4324ef5\n",
            "  Stored in directory: /root/.cache/pip/wheels/56/51/e4/c91c61e3481a1a967beb18c4ea7a2b138a63cce94170b2e206\n",
            "Successfully built ipdb\n",
            "Installing collected packages: ipdb\n",
            "Successfully installed ipdb-0.13.4\n"
          ],
          "name": "stdout"
        }
      ]
    },
    {
      "cell_type": "code",
      "metadata": {
        "colab": {
          "base_uri": "https://localhost:8080/"
        },
        "id": "a1UnvKmL8s5Y",
        "outputId": "b14be9a9-6af8-43bd-e780-ff1970c296d5"
      },
      "source": [
        "!pip install -U scipy==1.2.0"
      ],
      "execution_count": null,
      "outputs": [
        {
          "output_type": "stream",
          "text": [
            "Collecting scipy==1.2.0\n",
            "\u001b[?25l  Downloading https://files.pythonhosted.org/packages/67/e6/6d4edaceee6a110ecf6f318482f5229792f143e468b34a631f5a0899f56d/scipy-1.2.0-cp36-cp36m-manylinux1_x86_64.whl (26.6MB)\n",
            "\u001b[K     |████████████████████████████████| 26.6MB 114kB/s \n",
            "\u001b[?25hRequirement already satisfied, skipping upgrade: numpy>=1.8.2 in /usr/local/lib/python3.6/dist-packages (from scipy==1.2.0) (1.19.5)\n",
            "\u001b[31mERROR: albumentations 0.1.12 has requirement imgaug<0.2.7,>=0.2.5, but you'll have imgaug 0.2.9 which is incompatible.\u001b[0m\n",
            "Installing collected packages: scipy\n",
            "  Found existing installation: scipy 1.4.1\n",
            "    Uninstalling scipy-1.4.1:\n",
            "      Successfully uninstalled scipy-1.4.1\n",
            "Successfully installed scipy-1.2.0\n"
          ],
          "name": "stdout"
        }
      ]
    },
    {
      "cell_type": "code",
      "metadata": {
        "colab": {
          "base_uri": "https://localhost:8080/"
        },
        "id": "6NZPbhwFSLbc",
        "outputId": "fb24ae73-5485-47a8-e24e-0be4f91579f5"
      },
      "source": [
        "%tensorflow_version 1.x\r\n",
        "! echo $PYTHONPATH"
      ],
      "execution_count": null,
      "outputs": [
        {
          "output_type": "stream",
          "text": [
            "TensorFlow 1.x selected.\n",
            "/tensorflow-1.15.2/python3.6:/env/python:/content/gdrive/My Drive/colab/StackGAN\n"
          ],
          "name": "stdout"
        }
      ]
    },
    {
      "cell_type": "code",
      "metadata": {
        "id": "P4d5xQvATunQ"
      },
      "source": [
        "!wget https://www.robots.ox.ac.uk/~vgg/data/flowers/102/102flowers.tgz\r\n",
        "!wget https://www.robots.ox.ac.uk/~vgg/data/flowers/102/102segmentations.tgz\r\n",
        "!tar -zxvf 102flowers.tgz -C flowers/\r\n",
        "!tar -zxvf 102segmentations.tgz -C flowers/"
      ],
      "execution_count": null,
      "outputs": []
    },
    {
      "cell_type": "code",
      "metadata": {
        "id": "kjKJUKyiOG7a",
        "colab": {
          "base_uri": "https://localhost:8080/"
        },
        "outputId": "4b10273e-cd2a-49a2-860e-44b09f31e3aa"
      },
      "source": [
        "!gdown --id 0B3y_msrWZaXLNUNKa3BaRjAyTzQ\r\n",
        "!gdown --id 0B3y_msrWZaXLX01FMC1JQW9vaFk\r\n",
        "!gdown --id 0B3y_msrWZaXLZVNRNFg4d055Q1E"
      ],
      "execution_count": null,
      "outputs": [
        {
          "output_type": "stream",
          "text": [
            "Downloading...\n",
            "From: https://drive.google.com/uc?id=0B3y_msrWZaXLNUNKa3BaRjAyTzQ\n",
            "To: /content/gdrive/MyDrive/colab/StackGAN/models/birds_model_164000.ckpt\n",
            "1.23GB [00:10, 122MB/s]\n",
            "Downloading...\n",
            "From: https://drive.google.com/uc?id=0B3y_msrWZaXLX01FMC1JQW9vaFk\n",
            "To: /content/gdrive/My Drive/colab/StackGAN/models/flowers_model_130000.ckpt\n",
            "1.23GB [00:17, 72.3MB/s]\n",
            "Downloading...\n",
            "From: https://drive.google.com/uc?id=0B3y_msrWZaXLZVNRNFg4d055Q1E\n",
            "To: /content/gdrive/My Drive/colab/StackGAN/models/birds_skip_thought_model_164000.ckpt\n",
            "1.28GB [00:12, 102MB/s] \n"
          ],
          "name": "stdout"
        }
      ]
    },
    {
      "cell_type": "code",
      "metadata": {
        "id": "aTKS6znh37cn"
      },
      "source": [
        "!python misc/preprocess_birds.py\r\n",
        "!python misc/preprocess_flowers.py"
      ],
      "execution_count": null,
      "outputs": []
    },
    {
      "cell_type": "code",
      "metadata": {
        "colab": {
          "base_uri": "https://localhost:8080/"
        },
        "id": "fCgw3bH3myjC",
        "outputId": "c5d5dddc-a041-4039-c707-f167e4c0ffc4"
      },
      "source": [
        "! cd ~/torch\r\n",
        "!bash /root/torch/install-deps && ./root/torch/install.sh\r\n",
        "! source ~/.bashrc"
      ],
      "execution_count": null,
      "outputs": [
        {
          "output_type": "stream",
          "text": [
            "/bin/bash: ./root/torch/install-deps: No such file or directory\n"
          ],
          "name": "stdout"
        }
      ]
    },
    {
      "cell_type": "code",
      "metadata": {
        "colab": {
          "base_uri": "https://localhost:8080/"
        },
        "id": "kt9dTA1B2Kbr",
        "outputId": "1edca907-c827-4f47-87e8-df272d26cd33"
      },
      "source": [
        "cd /content/gdrive/MyDrive/colab/StackGAN"
      ],
      "execution_count": null,
      "outputs": [
        {
          "output_type": "stream",
          "text": [
            "/content/gdrive/MyDrive/colab/StackGAN\n"
          ],
          "name": "stdout"
        }
      ]
    },
    {
      "cell_type": "code",
      "metadata": {
        "colab": {
          "base_uri": "https://localhost:8080/"
        },
        "id": "3k3yOBKf2zq0",
        "outputId": "2d41fa8d-8967-4df9-de37-b08689002456"
      },
      "source": [
        "!gdown --id 0B0ywwgffWnLLZUt0UmQ1LU1oWlU"
      ],
      "execution_count": null,
      "outputs": [
        {
          "output_type": "stream",
          "text": [
            "Downloading...\n",
            "From: https://drive.google.com/uc?id=0B0ywwgffWnLLZUt0UmQ1LU1oWlU\n",
            "To: /content/gdrive/My Drive/colab/StackGAN/models/text_encoder/lm_sje_flowers_c10_hybrid_0.00070_1_10_trainvalids.txt_iter16400.t7\n",
            "132MB [00:01, 78.9MB/s]\n"
          ],
          "name": "stdout"
        }
      ]
    },
    {
      "cell_type": "code",
      "metadata": {
        "id": "Vgtp5-QyOq4F",
        "colab": {
          "base_uri": "https://localhost:8080/"
        },
        "outputId": "c2e11eb2-914b-4815-cb24-93d99c37de96"
      },
      "source": [
        "!sh demo/flowers_demo.sh"
      ],
      "execution_count": null,
      "outputs": [
        {
          "output_type": "stream",
          "text": [
            "demo/flowers_demo.sh: 10: demo/flowers_demo.sh: th: not found\n",
            "WARNING:tensorflow:From /usr/local/lib/python3.6/dist-packages/prettytensor/bookkeeper.py:43: The name tf.GraphKeys is deprecated. Please use tf.compat.v1.GraphKeys instead.\n",
            "\n",
            "WARNING:tensorflow:From /usr/local/lib/python3.6/dist-packages/prettytensor/pretty_tensor_methods.py:705: The name tf.log is deprecated. Please use tf.math.log instead.\n",
            "\n",
            "WARNING:tensorflow:From /usr/local/lib/python3.6/dist-packages/prettytensor/local_trainer.py:37: The name tf.train.SessionManager is deprecated. Please use tf.compat.v1.train.SessionManager instead.\n",
            "\n",
            "Traceback (most recent call last):\n",
            "  File \"demo/demo.py\", line 175, in <module>\n",
            "    t_file = torchfile.load(cap_path)\n",
            "  File \"/usr/local/lib/python3.6/dist-packages/torchfile.py\", line 422, in load\n",
            "    with open(filename, 'rb') as f:\n",
            "FileNotFoundError: [Errno 2] No such file or directory: '/content/gdrive/MyDrive/colab/StackGAN/Data/flowers/example_captions.t7'\n"
          ],
          "name": "stdout"
        }
      ]
    }
  ]
}