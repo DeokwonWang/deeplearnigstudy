{
  "nbformat": 4,
  "nbformat_minor": 0,
  "metadata": {
    "colab": {
      "name": "06_XOR_ipynb",
      "provenance": [],
      "authorship_tag": "ABX9TyOIrfxQtUs+vBCp2E8854Bn",
      "include_colab_link": true
    },
    "kernelspec": {
      "name": "python3",
      "display_name": "Python 3"
    }
  },
  "cells": [
    {
      "cell_type": "markdown",
      "metadata": {
        "id": "view-in-github",
        "colab_type": "text"
      },
      "source": [
        "<a href=\"https://colab.research.google.com/github/DeokwonWang/deeplearnigstudy/blob/main/06_XOR_ipynb.ipynb\" target=\"_parent\"><img src=\"https://colab.research.google.com/assets/colab-badge.svg\" alt=\"Open In Colab\"/></a>"
      ]
    },
    {
      "cell_type": "code",
      "metadata": {
        "id": "MfSs_q0x4hLL",
        "colab": {
          "base_uri": "https://localhost:8080/"
        },
        "outputId": "cdebe0ee-2ae0-4f14-857a-14527244a82e"
      },
      "source": [
        "import numpy as np\n",
        "\n",
        "w11 = np.array([-2,-2])\n",
        "w12 = np.array([2,2])\n",
        "w2 = np.array([1,1])\n",
        "b1=3\n",
        "b2=-1\n",
        "b3=-1\n",
        "\n",
        "def MLP(x, w, b):\n",
        "  y = np.sum(w * x) + b\n",
        "  if y <= 0:\n",
        "    return 0\n",
        "  else:\n",
        "    return 1\n",
        "\n",
        "def NAND(x1, x2):\n",
        "  return MLP(np.array([x1,x2]), w11, b1)\n",
        "\n",
        "def OR(x1, x2):\n",
        "  return MLP(np.array([x1,x2]), w12, b2)\n",
        "\n",
        "def AND(x1, x2):\n",
        "  return MLP(np.array([x1,x2]), w2, b3)\n",
        "\n",
        "def XOR(x1, x2):\n",
        "  return AND(NAND(x1,x2), OR(x1, x2))\n",
        "\n",
        "if __name__ == '__main__':\n",
        "  for x in [(0,0), (1,0), (0,1), (1,1)]:\n",
        "    y = XOR(x[0], x[1])\n",
        "    print(\"입력 값: \" + str(x) + \"출력 값: \" + str(y))\n",
        "\n"
      ],
      "execution_count": null,
      "outputs": [
        {
          "output_type": "stream",
          "text": [
            "입력 값: (0, 0)출력 값: 0\n",
            "입력 값: (1, 0)출력 값: 1\n",
            "입력 값: (0, 1)출력 값: 1\n",
            "입력 값: (1, 1)출력 값: 0\n"
          ],
          "name": "stdout"
        }
      ]
    }
  ]
}