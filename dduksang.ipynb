{
  "nbformat": 4,
  "nbformat_minor": 0,
  "metadata": {
    "colab": {
      "name": "dduksang.ipynb",
      "provenance": [],
      "authorship_tag": "ABX9TyNau2S0m8Pr6WxwTOlEBGpW",
      "include_colab_link": true
    },
    "kernelspec": {
      "name": "python3",
      "display_name": "Python 3"
    },
    "language_info": {
      "name": "python"
    }
  },
  "cells": [
    {
      "cell_type": "markdown",
      "metadata": {
        "id": "view-in-github",
        "colab_type": "text"
      },
      "source": [
        "<a href=\"https://colab.research.google.com/github/DeokwonWang/deeplearnigstudy/blob/main/dduksang.ipynb\" target=\"_parent\"><img src=\"https://colab.research.google.com/assets/colab-badge.svg\" alt=\"Open In Colab\"/></a>"
      ]
    },
    {
      "cell_type": "code",
      "metadata": {
        "colab": {
          "base_uri": "https://localhost:8080/"
        },
        "id": "tuU02Im11jLh",
        "outputId": "e5549457-4afc-43a7-a18c-dea76ee8f0d5"
      },
      "source": [
        "from google.colab import drive\n",
        "drive.mount('/content/drive')"
      ],
      "execution_count": null,
      "outputs": [
        {
          "output_type": "stream",
          "text": [
            "Mounted at /content/drive\n"
          ],
          "name": "stdout"
        }
      ]
    },
    {
      "cell_type": "code",
      "metadata": {
        "colab": {
          "base_uri": "https://localhost:8080/"
        },
        "id": "i2xwFY_h5vYP",
        "outputId": "e1f6a06d-34c1-4bee-98fe-67fc74b8e4cc"
      },
      "source": [
        "cd /content/drive/MyDrive/samsung/"
      ],
      "execution_count": null,
      "outputs": [
        {
          "output_type": "stream",
          "text": [
            "/content/drive/MyDrive/samsung\n"
          ],
          "name": "stdout"
        }
      ]
    },
    {
      "cell_type": "code",
      "metadata": {
        "colab": {
          "base_uri": "https://localhost:8080/",
          "height": 304
        },
        "id": "Mr_DoYiz1oGo",
        "outputId": "94303bad-2da9-4f26-eeb3-e10bedfc8367"
      },
      "source": [
        "import pandas as pd\n",
        "\n",
        "df = pd.read_csv('samsung_sk_KOSPI.csv', names= ['date','SamsungOpen','SamsungHigh','SamsungLow','SamsungChange','SamsungVolume',\n",
        "                                        'SkhynixOpen','SkhynixHigh','SkhynixLow','SkhynixClose','SkhynixVolume','SkhynixChange',\n",
        "                                        'KOSPIOpen','KOSPIHigh','KOSPILow','KOSPIClose','KOSPIVolume','KOSPIChange','newscount','SamsungClose'])\n",
        "\n",
        "df.head()"
      ],
      "execution_count": null,
      "outputs": [
        {
          "output_type": "execute_result",
          "data": {
            "text/html": [
              "<div>\n",
              "<style scoped>\n",
              "    .dataframe tbody tr th:only-of-type {\n",
              "        vertical-align: middle;\n",
              "    }\n",
              "\n",
              "    .dataframe tbody tr th {\n",
              "        vertical-align: top;\n",
              "    }\n",
              "\n",
              "    .dataframe thead th {\n",
              "        text-align: right;\n",
              "    }\n",
              "</style>\n",
              "<table border=\"1\" class=\"dataframe\">\n",
              "  <thead>\n",
              "    <tr style=\"text-align: right;\">\n",
              "      <th></th>\n",
              "      <th>date</th>\n",
              "      <th>SamsungOpen</th>\n",
              "      <th>SamsungHigh</th>\n",
              "      <th>SamsungLow</th>\n",
              "      <th>SamsungChange</th>\n",
              "      <th>SamsungVolume</th>\n",
              "      <th>SkhynixOpen</th>\n",
              "      <th>SkhynixHigh</th>\n",
              "      <th>SkhynixLow</th>\n",
              "      <th>SkhynixClose</th>\n",
              "      <th>SkhynixVolume</th>\n",
              "      <th>SkhynixChange</th>\n",
              "      <th>KOSPIOpen</th>\n",
              "      <th>KOSPIHigh</th>\n",
              "      <th>KOSPILow</th>\n",
              "      <th>KOSPIClose</th>\n",
              "      <th>KOSPIVolume</th>\n",
              "      <th>KOSPIChange</th>\n",
              "      <th>newscount</th>\n",
              "      <th>SamsungClose</th>\n",
              "    </tr>\n",
              "  </thead>\n",
              "  <tbody>\n",
              "    <tr>\n",
              "      <th>0</th>\n",
              "      <td>2008-01-02</td>\n",
              "      <td>11180</td>\n",
              "      <td>11200</td>\n",
              "      <td>10840</td>\n",
              "      <td>-0.021583</td>\n",
              "      <td>360944</td>\n",
              "      <td>26000</td>\n",
              "      <td>26100</td>\n",
              "      <td>24800</td>\n",
              "      <td>24850</td>\n",
              "      <td>3440780</td>\n",
              "      <td>-0.042389</td>\n",
              "      <td>1853.45</td>\n",
              "      <td>1891.45</td>\n",
              "      <td>1892.50</td>\n",
              "      <td>1852.78</td>\n",
              "      <td>247090000</td>\n",
              "      <td>-0.0230</td>\n",
              "      <td>0</td>\n",
              "      <td>10880</td>\n",
              "    </tr>\n",
              "    <tr>\n",
              "      <th>1</th>\n",
              "      <td>2008-01-03</td>\n",
              "      <td>10760</td>\n",
              "      <td>11060</td>\n",
              "      <td>10640</td>\n",
              "      <td>0.003676</td>\n",
              "      <td>386930</td>\n",
              "      <td>24400</td>\n",
              "      <td>24850</td>\n",
              "      <td>24100</td>\n",
              "      <td>24600</td>\n",
              "      <td>2770877</td>\n",
              "      <td>-0.010060</td>\n",
              "      <td>1852.73</td>\n",
              "      <td>1834.44</td>\n",
              "      <td>1858.08</td>\n",
              "      <td>1821.61</td>\n",
              "      <td>253670000</td>\n",
              "      <td>-0.0004</td>\n",
              "      <td>0</td>\n",
              "      <td>10920</td>\n",
              "    </tr>\n",
              "    <tr>\n",
              "      <th>2</th>\n",
              "      <td>2008-01-04</td>\n",
              "      <td>10920</td>\n",
              "      <td>10960</td>\n",
              "      <td>10760</td>\n",
              "      <td>-0.012821</td>\n",
              "      <td>359947</td>\n",
              "      <td>24500</td>\n",
              "      <td>24600</td>\n",
              "      <td>24000</td>\n",
              "      <td>24400</td>\n",
              "      <td>3164048</td>\n",
              "      <td>-0.008130</td>\n",
              "      <td>1863.90</td>\n",
              "      <td>1853.54</td>\n",
              "      <td>1869.76</td>\n",
              "      <td>1824.41</td>\n",
              "      <td>299080000</td>\n",
              "      <td>0.0060</td>\n",
              "      <td>1</td>\n",
              "      <td>10780</td>\n",
              "    </tr>\n",
              "    <tr>\n",
              "      <th>3</th>\n",
              "      <td>2008-01-07</td>\n",
              "      <td>10360</td>\n",
              "      <td>10480</td>\n",
              "      <td>10340</td>\n",
              "      <td>-0.037106</td>\n",
              "      <td>795744</td>\n",
              "      <td>23500</td>\n",
              "      <td>23800</td>\n",
              "      <td>23350</td>\n",
              "      <td>23600</td>\n",
              "      <td>4062797</td>\n",
              "      <td>-0.032787</td>\n",
              "      <td>1831.14</td>\n",
              "      <td>1815.73</td>\n",
              "      <td>1840.99</td>\n",
              "      <td>1814.35</td>\n",
              "      <td>268130000</td>\n",
              "      <td>-0.0176</td>\n",
              "      <td>0</td>\n",
              "      <td>10380</td>\n",
              "    </tr>\n",
              "    <tr>\n",
              "      <th>4</th>\n",
              "      <td>2008-01-08</td>\n",
              "      <td>10380</td>\n",
              "      <td>10480</td>\n",
              "      <td>10320</td>\n",
              "      <td>-0.005780</td>\n",
              "      <td>495674</td>\n",
              "      <td>23400</td>\n",
              "      <td>23550</td>\n",
              "      <td>22950</td>\n",
              "      <td>23100</td>\n",
              "      <td>3245201</td>\n",
              "      <td>-0.021186</td>\n",
              "      <td>1826.23</td>\n",
              "      <td>1838.64</td>\n",
              "      <td>1840.62</td>\n",
              "      <td>1818.69</td>\n",
              "      <td>296570000</td>\n",
              "      <td>-0.0027</td>\n",
              "      <td>1</td>\n",
              "      <td>10320</td>\n",
              "    </tr>\n",
              "  </tbody>\n",
              "</table>\n",
              "</div>"
            ],
            "text/plain": [
              "         date  SamsungOpen  SamsungHigh  ...  KOSPIChange  newscount  SamsungClose\n",
              "0  2008-01-02        11180        11200  ...      -0.0230          0         10880\n",
              "1  2008-01-03        10760        11060  ...      -0.0004          0         10920\n",
              "2  2008-01-04        10920        10960  ...       0.0060          1         10780\n",
              "3  2008-01-07        10360        10480  ...      -0.0176          0         10380\n",
              "4  2008-01-08        10380        10480  ...      -0.0027          1         10320\n",
              "\n",
              "[5 rows x 20 columns]"
            ]
          },
          "metadata": {
            "tags": []
          },
          "execution_count": 3
        }
      ]
    },
    {
      "cell_type": "code",
      "metadata": {
        "id": "8G2xphdn9WJB"
      },
      "source": [
        "df['date'] = pd.to_datetime(df['date'], format='%Y-%m-%d')"
      ],
      "execution_count": null,
      "outputs": []
    },
    {
      "cell_type": "code",
      "metadata": {
        "id": "XuKOEska_7pK",
        "colab": {
          "base_uri": "https://localhost:8080/",
          "height": 304
        },
        "outputId": "d3cfd528-7bb9-42d0-8e78-b3c648eaf8da"
      },
      "source": [
        "df['year'] = df['date'].dt.year\n",
        "df['month'] = df['date'].dt.month\n",
        "df['day'] = df['date'].dt.day\n",
        "df.head()"
      ],
      "execution_count": null,
      "outputs": [
        {
          "output_type": "execute_result",
          "data": {
            "text/html": [
              "<div>\n",
              "<style scoped>\n",
              "    .dataframe tbody tr th:only-of-type {\n",
              "        vertical-align: middle;\n",
              "    }\n",
              "\n",
              "    .dataframe tbody tr th {\n",
              "        vertical-align: top;\n",
              "    }\n",
              "\n",
              "    .dataframe thead th {\n",
              "        text-align: right;\n",
              "    }\n",
              "</style>\n",
              "<table border=\"1\" class=\"dataframe\">\n",
              "  <thead>\n",
              "    <tr style=\"text-align: right;\">\n",
              "      <th></th>\n",
              "      <th>date</th>\n",
              "      <th>SamsungOpen</th>\n",
              "      <th>SamsungHigh</th>\n",
              "      <th>SamsungLow</th>\n",
              "      <th>SamsungChange</th>\n",
              "      <th>SamsungVolume</th>\n",
              "      <th>SkhynixOpen</th>\n",
              "      <th>SkhynixHigh</th>\n",
              "      <th>SkhynixLow</th>\n",
              "      <th>SkhynixClose</th>\n",
              "      <th>SkhynixVolume</th>\n",
              "      <th>SkhynixChange</th>\n",
              "      <th>KOSPIOpen</th>\n",
              "      <th>KOSPIHigh</th>\n",
              "      <th>KOSPILow</th>\n",
              "      <th>KOSPIClose</th>\n",
              "      <th>KOSPIVolume</th>\n",
              "      <th>KOSPIChange</th>\n",
              "      <th>newscount</th>\n",
              "      <th>SamsungClose</th>\n",
              "      <th>year</th>\n",
              "      <th>month</th>\n",
              "      <th>day</th>\n",
              "    </tr>\n",
              "  </thead>\n",
              "  <tbody>\n",
              "    <tr>\n",
              "      <th>0</th>\n",
              "      <td>2008-01-02</td>\n",
              "      <td>11180</td>\n",
              "      <td>11200</td>\n",
              "      <td>10840</td>\n",
              "      <td>-0.021583</td>\n",
              "      <td>360944</td>\n",
              "      <td>26000</td>\n",
              "      <td>26100</td>\n",
              "      <td>24800</td>\n",
              "      <td>24850</td>\n",
              "      <td>3440780</td>\n",
              "      <td>-0.042389</td>\n",
              "      <td>1853.45</td>\n",
              "      <td>1891.45</td>\n",
              "      <td>1892.50</td>\n",
              "      <td>1852.78</td>\n",
              "      <td>247090000</td>\n",
              "      <td>-0.0230</td>\n",
              "      <td>0</td>\n",
              "      <td>10880</td>\n",
              "      <td>2008</td>\n",
              "      <td>1</td>\n",
              "      <td>2</td>\n",
              "    </tr>\n",
              "    <tr>\n",
              "      <th>1</th>\n",
              "      <td>2008-01-03</td>\n",
              "      <td>10760</td>\n",
              "      <td>11060</td>\n",
              "      <td>10640</td>\n",
              "      <td>0.003676</td>\n",
              "      <td>386930</td>\n",
              "      <td>24400</td>\n",
              "      <td>24850</td>\n",
              "      <td>24100</td>\n",
              "      <td>24600</td>\n",
              "      <td>2770877</td>\n",
              "      <td>-0.010060</td>\n",
              "      <td>1852.73</td>\n",
              "      <td>1834.44</td>\n",
              "      <td>1858.08</td>\n",
              "      <td>1821.61</td>\n",
              "      <td>253670000</td>\n",
              "      <td>-0.0004</td>\n",
              "      <td>0</td>\n",
              "      <td>10920</td>\n",
              "      <td>2008</td>\n",
              "      <td>1</td>\n",
              "      <td>3</td>\n",
              "    </tr>\n",
              "    <tr>\n",
              "      <th>2</th>\n",
              "      <td>2008-01-04</td>\n",
              "      <td>10920</td>\n",
              "      <td>10960</td>\n",
              "      <td>10760</td>\n",
              "      <td>-0.012821</td>\n",
              "      <td>359947</td>\n",
              "      <td>24500</td>\n",
              "      <td>24600</td>\n",
              "      <td>24000</td>\n",
              "      <td>24400</td>\n",
              "      <td>3164048</td>\n",
              "      <td>-0.008130</td>\n",
              "      <td>1863.90</td>\n",
              "      <td>1853.54</td>\n",
              "      <td>1869.76</td>\n",
              "      <td>1824.41</td>\n",
              "      <td>299080000</td>\n",
              "      <td>0.0060</td>\n",
              "      <td>1</td>\n",
              "      <td>10780</td>\n",
              "      <td>2008</td>\n",
              "      <td>1</td>\n",
              "      <td>4</td>\n",
              "    </tr>\n",
              "    <tr>\n",
              "      <th>3</th>\n",
              "      <td>2008-01-07</td>\n",
              "      <td>10360</td>\n",
              "      <td>10480</td>\n",
              "      <td>10340</td>\n",
              "      <td>-0.037106</td>\n",
              "      <td>795744</td>\n",
              "      <td>23500</td>\n",
              "      <td>23800</td>\n",
              "      <td>23350</td>\n",
              "      <td>23600</td>\n",
              "      <td>4062797</td>\n",
              "      <td>-0.032787</td>\n",
              "      <td>1831.14</td>\n",
              "      <td>1815.73</td>\n",
              "      <td>1840.99</td>\n",
              "      <td>1814.35</td>\n",
              "      <td>268130000</td>\n",
              "      <td>-0.0176</td>\n",
              "      <td>0</td>\n",
              "      <td>10380</td>\n",
              "      <td>2008</td>\n",
              "      <td>1</td>\n",
              "      <td>7</td>\n",
              "    </tr>\n",
              "    <tr>\n",
              "      <th>4</th>\n",
              "      <td>2008-01-08</td>\n",
              "      <td>10380</td>\n",
              "      <td>10480</td>\n",
              "      <td>10320</td>\n",
              "      <td>-0.005780</td>\n",
              "      <td>495674</td>\n",
              "      <td>23400</td>\n",
              "      <td>23550</td>\n",
              "      <td>22950</td>\n",
              "      <td>23100</td>\n",
              "      <td>3245201</td>\n",
              "      <td>-0.021186</td>\n",
              "      <td>1826.23</td>\n",
              "      <td>1838.64</td>\n",
              "      <td>1840.62</td>\n",
              "      <td>1818.69</td>\n",
              "      <td>296570000</td>\n",
              "      <td>-0.0027</td>\n",
              "      <td>1</td>\n",
              "      <td>10320</td>\n",
              "      <td>2008</td>\n",
              "      <td>1</td>\n",
              "      <td>8</td>\n",
              "    </tr>\n",
              "  </tbody>\n",
              "</table>\n",
              "</div>"
            ],
            "text/plain": [
              "        date  SamsungOpen  SamsungHigh  ...  year  month  day\n",
              "0 2008-01-02        11180        11200  ...  2008      1    2\n",
              "1 2008-01-03        10760        11060  ...  2008      1    3\n",
              "2 2008-01-04        10920        10960  ...  2008      1    4\n",
              "3 2008-01-07        10360        10480  ...  2008      1    7\n",
              "4 2008-01-08        10380        10480  ...  2008      1    8\n",
              "\n",
              "[5 rows x 23 columns]"
            ]
          },
          "metadata": {
            "tags": []
          },
          "execution_count": 7
        }
      ]
    },
    {
      "cell_type": "code",
      "metadata": {
        "colab": {
          "base_uri": "https://localhost:8080/",
          "height": 554
        },
        "id": "kp9y7xe4LTQh",
        "outputId": "104a8714-6185-4fe0-8bed-e75d9513b352"
      },
      "source": [
        "from matplotlib import pyplot as plt\n",
        "\n",
        "plt.figure(figsize=(12,9))\n",
        "plt.plot(df['date'],df['newscount'])\n",
        "plt.show"
      ],
      "execution_count": null,
      "outputs": [
        {
          "output_type": "execute_result",
          "data": {
            "text/plain": [
              "<function matplotlib.pyplot.show>"
            ]
          },
          "metadata": {
            "tags": []
          },
          "execution_count": 23
        },
        {
          "output_type": "display_data",
          "data": {
            "image/png": "[encoded data removed]",
            "text/plain": [
              "<Figure size 864x648 with 1 Axes>"
            ]
          },
          "metadata": {
            "tags": [],
            "needs_background": "light"
          }
        }
      ]
    },
    {
      "cell_type": "code",
      "metadata": {
        "colab": {
          "base_uri": "https://localhost:8080/"
        },
        "id": "-z2ABF_wARfU",
        "outputId": "32ba2f24-178b-4e57-cdd4-05a76b23a5a3"
      },
      "source": [
        "from sklearn.preprocessing import MinMaxScaler\n",
        "\n",
        "scaler = MinMaxScaler()\n",
        "scale_cols = ['SamsungOpen','SamsungHigh','SamsungLow','SamsungClose','SamsungVolume',\n",
        "              'SkhynixOpen','SkhynixHigh','SkhynixLow','SkhynixClose','SkhynixVolume','SkhynixChange',\n",
        "              'KOSPIOpen','KOSPIHigh','KOSPILow','KOSPIClose','KOSPIVolume','KOSPIChange','newscount','SamsungChange']\n",
        "df_scaled = scaler.fit_transform(df[scale_cols])\n",
        "\n",
        "df_scaled = pd.DataFrame(df_scaled)\n",
        "df_scaled.columns = scale_cols\n",
        "\n",
        "print(df_scaled)"
      ],
      "execution_count": null,
      "outputs": [
        {
          "output_type": "stream",
          "text": [
            "      SamsungOpen  SamsungHigh  ...  newscount  SamsungChange\n",
            "0        0.123810     0.115702  ...   0.000000       0.432625\n",
            "1        0.119158     0.114256  ...   0.000000       0.526843\n",
            "2        0.120930     0.113223  ...   0.033333       0.465308\n",
            "3        0.114729     0.108264  ...   0.000000       0.374723\n",
            "4        0.114950     0.108264  ...   0.033333       0.491568\n",
            "...           ...          ...  ...        ...            ...\n",
            "3264     0.916944     0.856405  ...   0.133333       0.490605\n",
            "3265     0.916944     0.865702  ...   0.033333       0.540323\n",
            "3266     0.909192     0.852273  ...   0.000000       0.468135\n",
            "3267     0.908084     0.850207  ...   0.100000       0.517684\n",
            "3268     0.914729     0.856405  ...   0.066667       0.504032\n",
            "\n",
            "[3269 rows x 19 columns]\n"
          ],
          "name": "stdout"
        }
      ]
    },
    {
      "cell_type": "code",
      "metadata": {
        "id": "GOynXw2lBmVV"
      },
      "source": [
        "TEST_SIZE = 200\n",
        "WINDOW_SIZE = 20\n",
        "\n",
        "train = df_scaled[:-TEST_SIZE]\n",
        "test = df_scaled[-TEST_SIZE:]"
      ],
      "execution_count": null,
      "outputs": []
    },
    {
      "cell_type": "code",
      "metadata": {
        "id": "H5nHklxdA5qO"
      },
      "source": [
        "def make_dataset(data, label, window_size=20):\n",
        "    feature_list = []\n",
        "    label_list = []\n",
        "    for i in range(len(data) - window_size):\n",
        "        feature_list.append(np.array(data.iloc[i:i+window_size]))\n",
        "        label_list.append(np.array(label.iloc[i+window_size]))\n",
        "    return np.array(feature_list), np.array(label_list)"
      ],
      "execution_count": null,
      "outputs": []
    },
    {
      "cell_type": "code",
      "metadata": {
        "colab": {
          "base_uri": "https://localhost:8080/"
        },
        "id": "bPfJwQzVBStA",
        "outputId": "14546e36-32e3-4aed-a861-a3cbd8789fa2"
      },
      "source": [
        "import numpy as np\n",
        "\n",
        "feature_cols = ['SamsungOpen','SamsungHigh','SamsungLow','SamsungChange','SamsungVolume',\n",
        "              'SkhynixOpen','SkhynixHigh','SkhynixLow','SkhynixClose','SkhynixVolume','SkhynixChange',\n",
        "              'KOSPIOpen','KOSPIHigh','KOSPILow','KOSPIClose','KOSPIVolume','KOSPIChange','newscount']\n",
        "label_cols = ['SamsungClose']\n",
        "\n",
        "train_feature = train[feature_cols]\n",
        "train_label = train[label_cols]\n",
        "\n",
        "train_feature, train_label = make_dataset(train_feature, train_label, 20)\n",
        "\n",
        "from sklearn.model_selection import train_test_split\n",
        "x_train, x_valid, y_train, y_valid = train_test_split(train_feature, train_label, test_size=0.2)\n",
        "\n",
        "x_train.shape, x_valid.shape"
      ],
      "execution_count": null,
      "outputs": [
        {
          "output_type": "execute_result",
          "data": {
            "text/plain": [
              "((2439, 20, 18), (610, 20, 18))"
            ]
          },
          "metadata": {
            "tags": []
          },
          "execution_count": 84
        }
      ]
    },
    {
      "cell_type": "code",
      "metadata": {
        "colab": {
          "base_uri": "https://localhost:8080/"
        },
        "id": "tPTpPRZFnJZ7",
        "outputId": "05aafe0c-c8b5-4738-af27-2a2f76862d9a"
      },
      "source": [
        "test_feature = test[feature_cols]\n",
        "test_label = test[label_cols]\n",
        "\n",
        "test_feature.shape, test_label.shape"
      ],
      "execution_count": null,
      "outputs": [
        {
          "output_type": "execute_result",
          "data": {
            "text/plain": [
              "((200, 18), (200, 1))"
            ]
          },
          "metadata": {
            "tags": []
          },
          "execution_count": 85
        }
      ]
    },
    {
      "cell_type": "code",
      "metadata": {
        "colab": {
          "base_uri": "https://localhost:8080/"
        },
        "id": "KiPm_HnTnbql",
        "outputId": "3fc7c612-ee6e-41bb-addc-2b05c7596382"
      },
      "source": [
        "test_feature, test_label = make_dataset(test_feature, test_label, 20)\n",
        "test_feature.shape, test_label.shape"
      ],
      "execution_count": null,
      "outputs": [
        {
          "output_type": "execute_result",
          "data": {
            "text/plain": [
              "((180, 20, 18), (180, 1))"
            ]
          },
          "metadata": {
            "tags": []
          },
          "execution_count": 86
        }
      ]
    },
    {
      "cell_type": "code",
      "metadata": {
        "id": "mUPPqCBDnf4y"
      },
      "source": [
        "from keras.models import Sequential\n",
        "from keras.layers import Dense\n",
        "from keras.callbacks import EarlyStopping, ModelCheckpoint\n",
        "from keras.layers import LSTM\n",
        "\n",
        "model = Sequential()\n",
        "model.add(LSTM(17, \n",
        "               input_shape=(train_feature.shape[1], train_feature.shape[2]), \n",
        "               activation='relu', \n",
        "               return_sequences=False)\n",
        "          )\n",
        "\n",
        "model.add(Dense(1))"
      ],
      "execution_count": null,
      "outputs": []
    },
    {
      "cell_type": "code",
      "metadata": {
        "colab": {
          "base_uri": "https://localhost:8080/"
        },
        "id": "k0j-QFyGnp73",
        "outputId": "9461e1a4-48b9-4a52-a124-8d3182045ae6"
      },
      "source": [
        "import os\n",
        "\n",
        "model.compile(loss='mean_squared_error', optimizer='adam')\n",
        "early_stop = EarlyStopping(monitor='val_loss', patience=5)\n",
        "\n",
        "model_path = 'model'\n",
        "filename = os.path.join(model_path, 'tmp_checkpoint.h5')\n",
        "checkpoint = ModelCheckpoint(filename, monitor='val_loss', verbose=1, save_best_only=True, mode='auto')\n",
        "\n",
        "history = model.fit(x_train, y_train, \n",
        "                                    epochs=200, \n",
        "                                    batch_size=16,\n",
        "                                    validation_data=(x_valid, y_valid), \n",
        "                                    callbacks=[early_stop, checkpoint])"
      ],
      "execution_count": null,
      "outputs": [
        {
          "output_type": "stream",
          "text": [
            "Epoch 1/200\n",
            "153/153 [==============================] - 3s 10ms/step - loss: 0.0574 - val_loss: 7.1721e-04\n",
            "\n",
            "Epoch 00001: val_loss improved from inf to 0.00072, saving model to model/tmp_checkpoint.h5\n",
            "Epoch 2/200\n",
            "153/153 [==============================] - 1s 9ms/step - loss: 6.3173e-04 - val_loss: 4.2930e-04\n",
            "\n",
            "Epoch 00002: val_loss improved from 0.00072 to 0.00043, saving model to model/tmp_checkpoint.h5\n",
            "Epoch 3/200\n",
            "153/153 [==============================] - 1s 9ms/step - loss: 3.5743e-04 - val_loss: 2.9433e-04\n",
            "\n",
            "Epoch 00003: val_loss improved from 0.00043 to 0.00029, saving model to model/tmp_checkpoint.h5\n",
            "Epoch 4/200\n",
            "153/153 [==============================] - 1s 8ms/step - loss: 2.2577e-04 - val_loss: 2.3626e-04\n",
            "\n",
            "Epoch 00004: val_loss improved from 0.00029 to 0.00024, saving model to model/tmp_checkpoint.h5\n",
            "Epoch 5/200\n",
            "153/153 [==============================] - 1s 9ms/step - loss: 2.2147e-04 - val_loss: 1.6644e-04\n",
            "\n",
            "Epoch 00005: val_loss improved from 0.00024 to 0.00017, saving model to model/tmp_checkpoint.h5\n",
            "Epoch 6/200\n",
            "153/153 [==============================] - 1s 8ms/step - loss: 1.7240e-04 - val_loss: 1.9716e-04\n",
            "\n",
            "Epoch 00006: val_loss did not improve from 0.00017\n",
            "Epoch 7/200\n",
            "153/153 [==============================] - 1s 8ms/step - loss: 1.3296e-04 - val_loss: 1.7441e-04\n",
            "\n",
            "Epoch 00007: val_loss did not improve from 0.00017\n",
            "Epoch 8/200\n",
            "153/153 [==============================] - 1s 8ms/step - loss: 1.1813e-04 - val_loss: 1.5536e-04\n",
            "\n",
            "Epoch 00008: val_loss improved from 0.00017 to 0.00016, saving model to model/tmp_checkpoint.h5\n",
            "Epoch 9/200\n",
            "153/153 [==============================] - 1s 8ms/step - loss: 9.0358e-05 - val_loss: 1.0920e-04\n",
            "\n",
            "Epoch 00009: val_loss improved from 0.00016 to 0.00011, saving model to model/tmp_checkpoint.h5\n",
            "Epoch 10/200\n",
            "153/153 [==============================] - 1s 9ms/step - loss: 8.5109e-05 - val_loss: 1.2266e-04\n",
            "\n",
            "Epoch 00010: val_loss did not improve from 0.00011\n",
            "Epoch 11/200\n",
            "153/153 [==============================] - 1s 9ms/step - loss: 1.2049e-04 - val_loss: 1.1359e-04\n",
            "\n",
            "Epoch 00011: val_loss did not improve from 0.00011\n",
            "Epoch 12/200\n",
            "153/153 [==============================] - 1s 8ms/step - loss: 9.6291e-05 - val_loss: 1.0307e-04\n",
            "\n",
            "Epoch 00012: val_loss improved from 0.00011 to 0.00010, saving model to model/tmp_checkpoint.h5\n",
            "Epoch 13/200\n",
            "153/153 [==============================] - 1s 9ms/step - loss: 9.1684e-05 - val_loss: 1.0949e-04\n",
            "\n",
            "Epoch 00013: val_loss did not improve from 0.00010\n",
            "Epoch 14/200\n",
            "153/153 [==============================] - 1s 9ms/step - loss: 9.1310e-05 - val_loss: 1.1385e-04\n",
            "\n",
            "Epoch 00014: val_loss did not improve from 0.00010\n",
            "Epoch 15/200\n",
            "153/153 [==============================] - 1s 8ms/step - loss: 8.0379e-05 - val_loss: 1.1988e-04\n",
            "\n",
            "Epoch 00015: val_loss did not improve from 0.00010\n",
            "Epoch 16/200\n",
            "153/153 [==============================] - 1s 8ms/step - loss: 1.1021e-04 - val_loss: 1.0348e-04\n",
            "\n",
            "Epoch 00016: val_loss did not improve from 0.00010\n",
            "Epoch 17/200\n",
            "153/153 [==============================] - 1s 8ms/step - loss: 7.8342e-05 - val_loss: 1.0093e-04\n",
            "\n",
            "Epoch 00017: val_loss improved from 0.00010 to 0.00010, saving model to model/tmp_checkpoint.h5\n",
            "Epoch 18/200\n",
            "153/153 [==============================] - 1s 9ms/step - loss: 7.7345e-05 - val_loss: 1.1722e-04\n",
            "\n",
            "Epoch 00018: val_loss did not improve from 0.00010\n",
            "Epoch 19/200\n",
            "153/153 [==============================] - 1s 8ms/step - loss: 1.2198e-04 - val_loss: 1.3435e-04\n",
            "\n",
            "Epoch 00019: val_loss did not improve from 0.00010\n",
            "Epoch 20/200\n",
            "153/153 [==============================] - 1s 8ms/step - loss: 1.0737e-04 - val_loss: 1.4184e-04\n",
            "\n",
            "Epoch 00020: val_loss did not improve from 0.00010\n",
            "Epoch 21/200\n",
            "153/153 [==============================] - 1s 9ms/step - loss: 7.8495e-05 - val_loss: 1.4642e-04\n",
            "\n",
            "Epoch 00021: val_loss did not improve from 0.00010\n",
            "Epoch 22/200\n",
            "153/153 [==============================] - 1s 9ms/step - loss: 6.7676e-05 - val_loss: 1.0024e-04\n",
            "\n",
            "Epoch 00022: val_loss improved from 0.00010 to 0.00010, saving model to model/tmp_checkpoint.h5\n",
            "Epoch 23/200\n",
            "153/153 [==============================] - 1s 8ms/step - loss: 6.8920e-05 - val_loss: 9.6936e-05\n",
            "\n",
            "Epoch 00023: val_loss improved from 0.00010 to 0.00010, saving model to model/tmp_checkpoint.h5\n",
            "Epoch 24/200\n",
            "153/153 [==============================] - 1s 8ms/step - loss: 6.7302e-05 - val_loss: 1.0091e-04\n",
            "\n",
            "Epoch 00024: val_loss did not improve from 0.00010\n",
            "Epoch 25/200\n",
            "153/153 [==============================] - 1s 8ms/step - loss: 8.6613e-05 - val_loss: 1.0863e-04\n",
            "\n",
            "Epoch 00025: val_loss did not improve from 0.00010\n",
            "Epoch 26/200\n",
            "153/153 [==============================] - 1s 9ms/step - loss: 8.1359e-05 - val_loss: 9.1291e-05\n",
            "\n",
            "Epoch 00026: val_loss improved from 0.00010 to 0.00009, saving model to model/tmp_checkpoint.h5\n",
            "Epoch 27/200\n",
            "153/153 [==============================] - 1s 8ms/step - loss: 9.3084e-05 - val_loss: 8.8288e-05\n",
            "\n",
            "Epoch 00027: val_loss improved from 0.00009 to 0.00009, saving model to model/tmp_checkpoint.h5\n",
            "Epoch 28/200\n",
            "153/153 [==============================] - 1s 9ms/step - loss: 6.2473e-05 - val_loss: 9.4523e-05\n",
            "\n",
            "Epoch 00028: val_loss did not improve from 0.00009\n",
            "Epoch 29/200\n",
            "153/153 [==============================] - 1s 8ms/step - loss: 7.4815e-05 - val_loss: 7.8377e-05\n",
            "\n",
            "Epoch 00029: val_loss improved from 0.00009 to 0.00008, saving model to model/tmp_checkpoint.h5\n",
            "Epoch 30/200\n",
            "153/153 [==============================] - 1s 9ms/step - loss: 6.1072e-05 - val_loss: 9.6081e-05\n",
            "\n",
            "Epoch 00030: val_loss did not improve from 0.00008\n",
            "Epoch 31/200\n",
            "153/153 [==============================] - 1s 9ms/step - loss: 7.1185e-05 - val_loss: 9.1948e-05\n",
            "\n",
            "Epoch 00031: val_loss did not improve from 0.00008\n",
            "Epoch 32/200\n",
            "153/153 [==============================] - 1s 8ms/step - loss: 7.5472e-05 - val_loss: 2.0211e-04\n",
            "\n",
            "Epoch 00032: val_loss did not improve from 0.00008\n",
            "Epoch 33/200\n",
            "153/153 [==============================] - 1s 9ms/step - loss: 8.5564e-05 - val_loss: 8.0826e-05\n",
            "\n",
            "Epoch 00033: val_loss did not improve from 0.00008\n",
            "Epoch 34/200\n",
            "153/153 [==============================] - 1s 9ms/step - loss: 6.3754e-05 - val_loss: 8.2442e-05\n",
            "\n",
            "Epoch 00034: val_loss did not improve from 0.00008\n"
          ],
          "name": "stdout"
        }
      ]
    },
    {
      "cell_type": "code",
      "metadata": {
        "colab": {
          "base_uri": "https://localhost:8080/"
        },
        "id": "iHRbJNeGop-X",
        "outputId": "b4bfd621-c687-4b17-8feb-ce9526df2e6f"
      },
      "source": [
        "cd model/"
      ],
      "execution_count": null,
      "outputs": [
        {
          "output_type": "stream",
          "text": [
            "/content/drive/My Drive/samsung/model\n"
          ],
          "name": "stdout"
        }
      ]
    },
    {
      "cell_type": "code",
      "metadata": {
        "colab": {
          "base_uri": "https://localhost:8080/"
        },
        "id": "F3GtLNdOoAsj",
        "outputId": "3fc496c5-e70f-4f65-beeb-0ebbab5f2fbb"
      },
      "source": [
        "model.load_weights('tmp_checkpoint.h5')\n",
        "pred = model.predict(test_feature)\n",
        "\n",
        "pred.shape"
      ],
      "execution_count": null,
      "outputs": [
        {
          "output_type": "execute_result",
          "data": {
            "text/plain": [
              "(180, 1)"
            ]
          },
          "metadata": {
            "tags": []
          },
          "execution_count": 90
        }
      ]
    },
    {
      "cell_type": "code",
      "metadata": {
        "id": "yHtpjK8aoOir"
      },
      "source": [
        "def reverse_min_max_scaling(org_x, x): #종가 예측값\n",
        "    org_x_np = np.asarray(org_x) \n",
        "    x_np = np.asarray(x)\n",
        "    return (x_np * (org_x_np.max() - org_x_np.min() + 1e-7)) + org_x_np.min()"
      ],
      "execution_count": null,
      "outputs": []
    },
    {
      "cell_type": "code",
      "metadata": {
        "id": "LVt-ekx9rLa1"
      },
      "source": [
        "test_predict = reverse_min_max_scaling(df['SamsungClose'],pred)\n",
        "test_price = reverse_min_max_scaling(df['SamsungClose'],test_label)"
      ],
      "execution_count": null,
      "outputs": []
    },
    {
      "cell_type": "code",
      "metadata": {
        "colab": {
          "base_uri": "https://localhost:8080/",
          "height": 554
        },
        "id": "FBbqU4FPoxPd",
        "outputId": "f5002692-82ec-4e6b-f34c-229b5ff7abe4"
      },
      "source": [
        "from matplotlib import pyplot as plt\n",
        "\n",
        "plt.figure(figsize=(12,9))\n",
        "plt.plot(df.loc[3089:,['date']], df.loc[3089:,['SamsungClose']], label = 'acturl')\n",
        "plt.plot(df.loc[3089:,['date']], test_predict, label = 'prediction')\n",
        "plt.legend()\n",
        "plt.show"
      ],
      "execution_count": null,
      "outputs": [
        {
          "output_type": "execute_result",
          "data": {
            "text/plain": [
              "<function matplotlib.pyplot.show>"
            ]
          },
          "metadata": {
            "tags": []
          },
          "execution_count": 98
        },
        {
          "output_type": "display_data",
          "data": {
            "image/png": "[encoded data removed]",
            "text/plain": [
              "<Figure size 864x648 with 1 Axes>"
            ]
          },
          "metadata": {
            "tags": [],
            "needs_background": "light"
          }
        }
      ]
    }
  ]
}