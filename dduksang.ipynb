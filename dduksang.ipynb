{
  "nbformat": 4,
  "nbformat_minor": 0,
  "metadata": {
    "colab": {
      "name": "dduksang.ipynb",
      "provenance": [],
      "authorship_tag": "ABX9TyNB3F2Ya2nrRoL7ujrzqRAz",
      "include_colab_link": true
    },
    "kernelspec": {
      "name": "python3",
      "display_name": "Python 3"
    },
    "language_info": {
      "name": "python"
    }
  },
  "cells": [
    {
      "cell_type": "markdown",
      "metadata": {
        "id": "view-in-github",
        "colab_type": "text"
      },
      "source": [
        "<a href=\"https://colab.research.google.com/github/DeokwonWang/deeplearnigstudy/blob/main/dduksang.ipynb\" target=\"_parent\"><img src=\"https://colab.research.google.com/assets/colab-badge.svg\" alt=\"Open In Colab\"/></a>"
      ]
    },
    {
      "cell_type": "code",
      "metadata": {
        "colab": {
          "base_uri": "https://localhost:8080/"
        },
        "id": "tuU02Im11jLh",
        "outputId": "a3816c0e-a943-44b4-8c0a-8a01038df67e"
      },
      "source": [
        "from google.colab import drive\n",
        "drive.mount('/content/drive')"
      ],
      "execution_count": 1,
      "outputs": [
        {
          "output_type": "stream",
          "text": [
            "Drive already mounted at /content/drive; to attempt to forcibly remount, call drive.mount(\"/content/drive\", force_remount=True).\n"
          ],
          "name": "stdout"
        }
      ]
    },
    {
      "cell_type": "code",
      "metadata": {
        "colab": {
          "base_uri": "https://localhost:8080/"
        },
        "id": "i2xwFY_h5vYP",
        "outputId": "b053ac87-64d9-4fe8-ea39-9596efe26a8d"
      },
      "source": [
        "cd /content/drive/MyDrive/samsung/"
      ],
      "execution_count": 2,
      "outputs": [
        {
          "output_type": "stream",
          "text": [
            "/content/drive/MyDrive/samsung\n"
          ],
          "name": "stdout"
        }
      ]
    },
    {
      "cell_type": "code",
      "metadata": {
        "colab": {
          "base_uri": "https://localhost:8080/",
          "height": 304
        },
        "id": "Mr_DoYiz1oGo",
        "outputId": "f7cd1fcf-3413-4c74-b21e-ed494aa1aa02"
      },
      "source": [
        "import pandas as pd\n",
        "\n",
        "df = pd.read_csv('samsung_sk_KOSPI.csv', names= ['date','SamsungOpen','SamsungHigh','SamsungLow','SamsungClose','SamsungVolume',\n",
        "                                        'SkhynixOpen','SkhynixHigh','SkhynixLow','SkhynixClose','SkhynixVolume','SkhynixChange',\n",
        "                                        'KOSPIOpen','KOSPIHigh','KOSPILow','KOSPIClose','KOSPIVolume','KOSPIChange','SamsungChange'])\n",
        "\n",
        "df.head()"
      ],
      "execution_count": 3,
      "outputs": [
        {
          "output_type": "execute_result",
          "data": {
            "text/html": [
              "<div>\n",
              "<style scoped>\n",
              "    .dataframe tbody tr th:only-of-type {\n",
              "        vertical-align: middle;\n",
              "    }\n",
              "\n",
              "    .dataframe tbody tr th {\n",
              "        vertical-align: top;\n",
              "    }\n",
              "\n",
              "    .dataframe thead th {\n",
              "        text-align: right;\n",
              "    }\n",
              "</style>\n",
              "<table border=\"1\" class=\"dataframe\">\n",
              "  <thead>\n",
              "    <tr style=\"text-align: right;\">\n",
              "      <th></th>\n",
              "      <th>date</th>\n",
              "      <th>SamsungOpen</th>\n",
              "      <th>SamsungHigh</th>\n",
              "      <th>SamsungLow</th>\n",
              "      <th>SamsungClose</th>\n",
              "      <th>SamsungVolume</th>\n",
              "      <th>SkhynixOpen</th>\n",
              "      <th>SkhynixHigh</th>\n",
              "      <th>SkhynixLow</th>\n",
              "      <th>SkhynixClose</th>\n",
              "      <th>SkhynixVolume</th>\n",
              "      <th>SkhynixChange</th>\n",
              "      <th>KOSPIOpen</th>\n",
              "      <th>KOSPIHigh</th>\n",
              "      <th>KOSPILow</th>\n",
              "      <th>KOSPIClose</th>\n",
              "      <th>KOSPIVolume</th>\n",
              "      <th>KOSPIChange</th>\n",
              "      <th>SamsungChange</th>\n",
              "    </tr>\n",
              "  </thead>\n",
              "  <tbody>\n",
              "    <tr>\n",
              "      <th>0</th>\n",
              "      <td>2008-01-02</td>\n",
              "      <td>11180</td>\n",
              "      <td>11200</td>\n",
              "      <td>10840</td>\n",
              "      <td>10880</td>\n",
              "      <td>360944</td>\n",
              "      <td>26000</td>\n",
              "      <td>26100</td>\n",
              "      <td>24800</td>\n",
              "      <td>24850</td>\n",
              "      <td>3440780</td>\n",
              "      <td>-0.042389</td>\n",
              "      <td>1853.45</td>\n",
              "      <td>1891.45</td>\n",
              "      <td>1892.50</td>\n",
              "      <td>1852.78</td>\n",
              "      <td>247090000</td>\n",
              "      <td>-0.0230</td>\n",
              "      <td>-0.021583</td>\n",
              "    </tr>\n",
              "    <tr>\n",
              "      <th>1</th>\n",
              "      <td>2008-01-03</td>\n",
              "      <td>10760</td>\n",
              "      <td>11060</td>\n",
              "      <td>10640</td>\n",
              "      <td>10920</td>\n",
              "      <td>386930</td>\n",
              "      <td>24400</td>\n",
              "      <td>24850</td>\n",
              "      <td>24100</td>\n",
              "      <td>24600</td>\n",
              "      <td>2770877</td>\n",
              "      <td>-0.010060</td>\n",
              "      <td>1852.73</td>\n",
              "      <td>1834.44</td>\n",
              "      <td>1858.08</td>\n",
              "      <td>1821.61</td>\n",
              "      <td>253670000</td>\n",
              "      <td>-0.0004</td>\n",
              "      <td>0.003676</td>\n",
              "    </tr>\n",
              "    <tr>\n",
              "      <th>2</th>\n",
              "      <td>2008-01-04</td>\n",
              "      <td>10920</td>\n",
              "      <td>10960</td>\n",
              "      <td>10760</td>\n",
              "      <td>10780</td>\n",
              "      <td>359947</td>\n",
              "      <td>24500</td>\n",
              "      <td>24600</td>\n",
              "      <td>24000</td>\n",
              "      <td>24400</td>\n",
              "      <td>3164048</td>\n",
              "      <td>-0.008130</td>\n",
              "      <td>1863.90</td>\n",
              "      <td>1853.54</td>\n",
              "      <td>1869.76</td>\n",
              "      <td>1824.41</td>\n",
              "      <td>299080000</td>\n",
              "      <td>0.0060</td>\n",
              "      <td>-0.012821</td>\n",
              "    </tr>\n",
              "    <tr>\n",
              "      <th>3</th>\n",
              "      <td>2008-01-07</td>\n",
              "      <td>10360</td>\n",
              "      <td>10480</td>\n",
              "      <td>10340</td>\n",
              "      <td>10380</td>\n",
              "      <td>795744</td>\n",
              "      <td>23500</td>\n",
              "      <td>23800</td>\n",
              "      <td>23350</td>\n",
              "      <td>23600</td>\n",
              "      <td>4062797</td>\n",
              "      <td>-0.032787</td>\n",
              "      <td>1831.14</td>\n",
              "      <td>1815.73</td>\n",
              "      <td>1840.99</td>\n",
              "      <td>1814.35</td>\n",
              "      <td>268130000</td>\n",
              "      <td>-0.0176</td>\n",
              "      <td>-0.037106</td>\n",
              "    </tr>\n",
              "    <tr>\n",
              "      <th>4</th>\n",
              "      <td>2008-01-08</td>\n",
              "      <td>10380</td>\n",
              "      <td>10480</td>\n",
              "      <td>10320</td>\n",
              "      <td>10320</td>\n",
              "      <td>495674</td>\n",
              "      <td>23400</td>\n",
              "      <td>23550</td>\n",
              "      <td>22950</td>\n",
              "      <td>23100</td>\n",
              "      <td>3245201</td>\n",
              "      <td>-0.021186</td>\n",
              "      <td>1826.23</td>\n",
              "      <td>1838.64</td>\n",
              "      <td>1840.62</td>\n",
              "      <td>1818.69</td>\n",
              "      <td>296570000</td>\n",
              "      <td>-0.0027</td>\n",
              "      <td>-0.005780</td>\n",
              "    </tr>\n",
              "  </tbody>\n",
              "</table>\n",
              "</div>"
            ],
            "text/plain": [
              "         date  SamsungOpen  ...  KOSPIChange  SamsungChange\n",
              "0  2008-01-02        11180  ...      -0.0230      -0.021583\n",
              "1  2008-01-03        10760  ...      -0.0004       0.003676\n",
              "2  2008-01-04        10920  ...       0.0060      -0.012821\n",
              "3  2008-01-07        10360  ...      -0.0176      -0.037106\n",
              "4  2008-01-08        10380  ...      -0.0027      -0.005780\n",
              "\n",
              "[5 rows x 19 columns]"
            ]
          },
          "metadata": {
            "tags": []
          },
          "execution_count": 3
        }
      ]
    },
    {
      "cell_type": "code",
      "metadata": {
        "id": "8G2xphdn9WJB"
      },
      "source": [
        "df['date'] = pd.to_datetime(df['date'], format='%Y-%m-%d')"
      ],
      "execution_count": 4,
      "outputs": []
    },
    {
      "cell_type": "code",
      "metadata": {
        "id": "XuKOEska_7pK"
      },
      "source": [
        "df['year'] = df['date'].dt.year\n",
        "df['month'] = df['date'].dt.month\n",
        "df['day'] = df['date'].dt.day"
      ],
      "execution_count": 5,
      "outputs": []
    },
    {
      "cell_type": "code",
      "metadata": {
        "colab": {
          "base_uri": "https://localhost:8080/"
        },
        "id": "-z2ABF_wARfU",
        "outputId": "6aae45f4-28e0-4d2e-91c3-cce78963765e"
      },
      "source": [
        "from sklearn.preprocessing import MinMaxScaler\n",
        "\n",
        "scaler = MinMaxScaler()\n",
        "scale_cols = ['SamsungOpen','SamsungHigh','SamsungLow','SamsungClose','SamsungVolume',\n",
        "              'SkhynixOpen','SkhynixHigh','SkhynixLow','SkhynixClose','SkhynixVolume','SkhynixChange',\n",
        "              'KOSPIOpen','KOSPIHigh','KOSPILow','KOSPIClose','KOSPIVolume','KOSPIChange','SamsungChange']\n",
        "df_scaled = scaler.fit_transform(df[scale_cols])\n",
        "\n",
        "df_scaled = pd.DataFrame(df_scaled)\n",
        "df_scaled.columns = scale_cols\n",
        "\n",
        "print(df_scaled)"
      ],
      "execution_count": 6,
      "outputs": [
        {
          "output_type": "stream",
          "text": [
            "      SamsungOpen  SamsungHigh  ...  KOSPIChange  SamsungChange\n",
            "0        0.123810     0.115702  ...     0.367229       0.432625\n",
            "1        0.119158     0.114256  ...     0.467584       0.526843\n",
            "2        0.120930     0.113223  ...     0.496004       0.465308\n",
            "3        0.114729     0.108264  ...     0.391208       0.374723\n",
            "4        0.114950     0.108264  ...     0.457371       0.491568\n",
            "...           ...          ...  ...          ...            ...\n",
            "3264     0.916944     0.856405  ...     0.440941       0.490605\n",
            "3265     0.916944     0.865702  ...     0.496448       0.540323\n",
            "3266     0.909192     0.852273  ...     0.431172       0.468135\n",
            "3267     0.908084     0.850207  ...     0.463588       0.517684\n",
            "3268     0.914729     0.856405  ...     0.424512       0.504032\n",
            "\n",
            "[3269 rows x 18 columns]\n"
          ],
          "name": "stdout"
        }
      ]
    },
    {
      "cell_type": "code",
      "metadata": {
        "id": "GOynXw2lBmVV"
      },
      "source": [
        "TEST_SIZE = 200\n",
        "WINDOW_SIZE = 20\n",
        "\n",
        "train = df_scaled[:-TEST_SIZE]\n",
        "test = df_scaled[-TEST_SIZE:]"
      ],
      "execution_count": 7,
      "outputs": []
    },
    {
      "cell_type": "code",
      "metadata": {
        "id": "H5nHklxdA5qO"
      },
      "source": [
        "def make_dataset(data, label, window_size=20):\n",
        "    feature_list = []\n",
        "    label_list = []\n",
        "    for i in range(len(data) - window_size):\n",
        "        feature_list.append(np.array(data.iloc[i:i+window_size]))\n",
        "        label_list.append(np.array(label.iloc[i+window_size]))\n",
        "    return np.array(feature_list), np.array(label_list)"
      ],
      "execution_count": 8,
      "outputs": []
    },
    {
      "cell_type": "code",
      "metadata": {
        "colab": {
          "base_uri": "https://localhost:8080/"
        },
        "id": "bPfJwQzVBStA",
        "outputId": "779494fe-bb7e-4204-fea1-724c365a726a"
      },
      "source": [
        "import numpy as np\n",
        "\n",
        "feature_cols = ['SamsungOpen','SamsungHigh','SamsungLow','SamsungChange','SamsungVolume',\n",
        "              'SkhynixOpen','SkhynixHigh','SkhynixLow','SkhynixClose','SkhynixVolume','SkhynixChange',\n",
        "              'KOSPIOpen','KOSPIHigh','KOSPILow','KOSPIClose','KOSPIVolume','KOSPIChange']\n",
        "label_cols = ['SamsungClose']\n",
        "\n",
        "train_feature = train[feature_cols]\n",
        "train_label = train[label_cols]\n",
        "\n",
        "train_feature, train_label = make_dataset(train_feature, train_label, 20)\n",
        "\n",
        "from sklearn.model_selection import train_test_split\n",
        "x_train, x_valid, y_train, y_valid = train_test_split(train_feature, train_label, test_size=0.2)\n",
        "\n",
        "x_train.shape, x_valid.shape"
      ],
      "execution_count": 9,
      "outputs": [
        {
          "output_type": "execute_result",
          "data": {
            "text/plain": [
              "((2439, 20, 17), (610, 20, 17))"
            ]
          },
          "metadata": {
            "tags": []
          },
          "execution_count": 9
        }
      ]
    },
    {
      "cell_type": "code",
      "metadata": {
        "colab": {
          "base_uri": "https://localhost:8080/"
        },
        "id": "tPTpPRZFnJZ7",
        "outputId": "f50ead53-1a09-46bf-fb87-13659158697f"
      },
      "source": [
        "test_feature = test[feature_cols]\n",
        "test_label = test[label_cols]\n",
        "\n",
        "test_feature.shape, test_label.shape"
      ],
      "execution_count": 10,
      "outputs": [
        {
          "output_type": "execute_result",
          "data": {
            "text/plain": [
              "((200, 17), (200, 1))"
            ]
          },
          "metadata": {
            "tags": []
          },
          "execution_count": 10
        }
      ]
    },
    {
      "cell_type": "code",
      "metadata": {
        "colab": {
          "base_uri": "https://localhost:8080/"
        },
        "id": "KiPm_HnTnbql",
        "outputId": "5e0d6161-0e55-4243-9514-a9610679f2f7"
      },
      "source": [
        "test_feature, test_label = make_dataset(test_feature, test_label, 20)\n",
        "test_feature.shape, test_label.shape"
      ],
      "execution_count": 11,
      "outputs": [
        {
          "output_type": "execute_result",
          "data": {
            "text/plain": [
              "((180, 20, 17), (180, 1))"
            ]
          },
          "metadata": {
            "tags": []
          },
          "execution_count": 11
        }
      ]
    },
    {
      "cell_type": "code",
      "metadata": {
        "id": "mUPPqCBDnf4y"
      },
      "source": [
        "from keras.models import Sequential\n",
        "from keras.layers import Dense\n",
        "from keras.callbacks import EarlyStopping, ModelCheckpoint\n",
        "from keras.layers import LSTM\n",
        "\n",
        "model = Sequential()\n",
        "model.add(LSTM(16, \n",
        "               input_shape=(train_feature.shape[1], train_feature.shape[2]), \n",
        "               activation='relu', \n",
        "               return_sequences=False)\n",
        "          )\n",
        "\n",
        "model.add(Dense(1))"
      ],
      "execution_count": 12,
      "outputs": []
    },
    {
      "cell_type": "code",
      "metadata": {
        "colab": {
          "base_uri": "https://localhost:8080/"
        },
        "id": "k0j-QFyGnp73",
        "outputId": "553fa61b-b010-4169-e98e-74a77b9c3a00"
      },
      "source": [
        "import os\n",
        "\n",
        "model.compile(loss='mean_squared_error', optimizer='adam')\n",
        "early_stop = EarlyStopping(monitor='val_loss', patience=5)\n",
        "\n",
        "model_path = 'model'\n",
        "filename = os.path.join(model_path, 'tmp_checkpoint.h5')\n",
        "checkpoint = ModelCheckpoint(filename, monitor='val_loss', verbose=1, save_best_only=True, mode='auto')\n",
        "\n",
        "history = model.fit(x_train, y_train, \n",
        "                                    epochs=200, \n",
        "                                    batch_size=16,\n",
        "                                    validation_data=(x_valid, y_valid), \n",
        "                                    callbacks=[early_stop, checkpoint])"
      ],
      "execution_count": 13,
      "outputs": [
        {
          "output_type": "stream",
          "text": [
            "Epoch 1/200\n",
            "153/153 [==============================] - 3s 11ms/step - loss: 0.0103 - val_loss: 0.0016\n",
            "\n",
            "Epoch 00001: val_loss improved from inf to 0.00158, saving model to model/tmp_checkpoint.h5\n",
            "Epoch 2/200\n",
            "153/153 [==============================] - 1s 8ms/step - loss: 0.0012 - val_loss: 3.4319e-04\n",
            "\n",
            "Epoch 00002: val_loss improved from 0.00158 to 0.00034, saving model to model/tmp_checkpoint.h5\n",
            "Epoch 3/200\n",
            "153/153 [==============================] - 1s 8ms/step - loss: 3.1991e-04 - val_loss: 1.7633e-04\n",
            "\n",
            "Epoch 00003: val_loss improved from 0.00034 to 0.00018, saving model to model/tmp_checkpoint.h5\n",
            "Epoch 4/200\n",
            "153/153 [==============================] - 1s 8ms/step - loss: 1.6414e-04 - val_loss: 1.4572e-04\n",
            "\n",
            "Epoch 00004: val_loss improved from 0.00018 to 0.00015, saving model to model/tmp_checkpoint.h5\n",
            "Epoch 5/200\n",
            "153/153 [==============================] - 1s 8ms/step - loss: 1.3732e-04 - val_loss: 1.2461e-04\n",
            "\n",
            "Epoch 00005: val_loss improved from 0.00015 to 0.00012, saving model to model/tmp_checkpoint.h5\n",
            "Epoch 6/200\n",
            "153/153 [==============================] - 1s 8ms/step - loss: 1.1620e-04 - val_loss: 1.7941e-04\n",
            "\n",
            "Epoch 00006: val_loss did not improve from 0.00012\n",
            "Epoch 7/200\n",
            "153/153 [==============================] - 1s 8ms/step - loss: 1.1969e-04 - val_loss: 9.1847e-05\n",
            "\n",
            "Epoch 00007: val_loss improved from 0.00012 to 0.00009, saving model to model/tmp_checkpoint.h5\n",
            "Epoch 8/200\n",
            "153/153 [==============================] - 1s 8ms/step - loss: 1.1090e-04 - val_loss: 1.0366e-04\n",
            "\n",
            "Epoch 00008: val_loss did not improve from 0.00009\n",
            "Epoch 9/200\n",
            "153/153 [==============================] - 1s 8ms/step - loss: 1.1496e-04 - val_loss: 1.0322e-04\n",
            "\n",
            "Epoch 00009: val_loss did not improve from 0.00009\n",
            "Epoch 10/200\n",
            "153/153 [==============================] - 1s 8ms/step - loss: 8.4602e-05 - val_loss: 9.0589e-05\n",
            "\n",
            "Epoch 00010: val_loss improved from 0.00009 to 0.00009, saving model to model/tmp_checkpoint.h5\n",
            "Epoch 11/200\n",
            "153/153 [==============================] - 1s 8ms/step - loss: 1.0087e-04 - val_loss: 8.5177e-05\n",
            "\n",
            "Epoch 00011: val_loss improved from 0.00009 to 0.00009, saving model to model/tmp_checkpoint.h5\n",
            "Epoch 12/200\n",
            "153/153 [==============================] - 1s 8ms/step - loss: 1.0806e-04 - val_loss: 8.1837e-05\n",
            "\n",
            "Epoch 00012: val_loss improved from 0.00009 to 0.00008, saving model to model/tmp_checkpoint.h5\n",
            "Epoch 13/200\n",
            "153/153 [==============================] - 1s 8ms/step - loss: 8.7430e-05 - val_loss: 7.6577e-05\n",
            "\n",
            "Epoch 00013: val_loss improved from 0.00008 to 0.00008, saving model to model/tmp_checkpoint.h5\n",
            "Epoch 14/200\n",
            "153/153 [==============================] - 1s 8ms/step - loss: 8.0029e-05 - val_loss: 1.7175e-04\n",
            "\n",
            "Epoch 00014: val_loss did not improve from 0.00008\n",
            "Epoch 15/200\n",
            "153/153 [==============================] - 1s 8ms/step - loss: 8.9555e-05 - val_loss: 7.6759e-05\n",
            "\n",
            "Epoch 00015: val_loss did not improve from 0.00008\n",
            "Epoch 16/200\n",
            "153/153 [==============================] - 1s 8ms/step - loss: 7.2699e-05 - val_loss: 1.5427e-04\n",
            "\n",
            "Epoch 00016: val_loss did not improve from 0.00008\n",
            "Epoch 17/200\n",
            "153/153 [==============================] - 1s 8ms/step - loss: 9.2819e-05 - val_loss: 1.0996e-04\n",
            "\n",
            "Epoch 00017: val_loss did not improve from 0.00008\n",
            "Epoch 18/200\n",
            "153/153 [==============================] - 1s 8ms/step - loss: 8.0223e-05 - val_loss: 8.5632e-05\n",
            "\n",
            "Epoch 00018: val_loss did not improve from 0.00008\n"
          ],
          "name": "stdout"
        }
      ]
    },
    {
      "cell_type": "code",
      "metadata": {
        "colab": {
          "base_uri": "https://localhost:8080/"
        },
        "id": "iHRbJNeGop-X",
        "outputId": "7370979c-f41a-4d40-d47c-b4ca9bc5e16c"
      },
      "source": [
        "cd model/"
      ],
      "execution_count": 14,
      "outputs": [
        {
          "output_type": "stream",
          "text": [
            "/content/drive/My Drive/samsung/model\n"
          ],
          "name": "stdout"
        }
      ]
    },
    {
      "cell_type": "code",
      "metadata": {
        "colab": {
          "base_uri": "https://localhost:8080/"
        },
        "id": "F3GtLNdOoAsj",
        "outputId": "b6b143ff-c31a-41ea-f663-23f23c74a2f2"
      },
      "source": [
        "model.load_weights('tmp_checkpoint.h5')\n",
        "pred = model.predict(test_feature)\n",
        "\n",
        "pred.shape"
      ],
      "execution_count": 15,
      "outputs": [
        {
          "output_type": "execute_result",
          "data": {
            "text/plain": [
              "(180, 1)"
            ]
          },
          "metadata": {
            "tags": []
          },
          "execution_count": 15
        }
      ]
    },
    {
      "cell_type": "code",
      "metadata": {
        "colab": {
          "base_uri": "https://localhost:8080/",
          "height": 554
        },
        "id": "FBbqU4FPoxPd",
        "outputId": "ba80d800-ddf9-436e-a171-91cd55347fc2"
      },
      "source": [
        "from matplotlib import pyplot as plt\n",
        "\n",
        "plt.figure(figsize=(12,9))\n",
        "plt.plot(test_label, label = 'acturl')\n",
        "plt.plot(pred, label = 'prediction')\n",
        "plt.legend()\n",
        "plt.show"
      ],
      "execution_count": 16,
      "outputs": [
        {
          "output_type": "execute_result",
          "data": {
            "text/plain": [
              "<function matplotlib.pyplot.show>"
            ]
          },
          "metadata": {
            "tags": []
          },
          "execution_count": 16
        },
        {
          "output_type": "display_data",
          "data": {
            "image/png": "[encoded data removed]",
            "text/plain": [
              "<Figure size 864x648 with 1 Axes>"
            ]
          },
          "metadata": {
            "tags": [],
            "needs_background": "light"
          }
        }
      ]
    }
  ]
}