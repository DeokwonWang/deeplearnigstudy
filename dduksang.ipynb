{
  "nbformat": 4,
  "nbformat_minor": 0,
  "metadata": {
    "colab": {
      "name": "dduksang.ipynb",
      "provenance": [],
      "authorship_tag": "ABX9TyO1jefOHs7IDgMD1oKi42u2",
      "include_colab_link": true
    },
    "kernelspec": {
      "name": "python3",
      "display_name": "Python 3"
    },
    "language_info": {
      "name": "python"
    }
  },
  "cells": [
    {
      "cell_type": "markdown",
      "metadata": {
        "id": "view-in-github",
        "colab_type": "text"
      },
      "source": [
        "<a href=\"https://colab.research.google.com/github/DeokwonWang/deeplearnigstudy/blob/main/dduksang.ipynb\" target=\"_parent\"><img src=\"https://colab.research.google.com/assets/colab-badge.svg\" alt=\"Open In Colab\"/></a>"
      ]
    },
    {
      "cell_type": "code",
      "metadata": {
        "colab": {
          "base_uri": "https://localhost:8080/"
        },
        "id": "tuU02Im11jLh",
        "outputId": "6b34216a-44d6-45a3-f488-6f9dc3c27a08"
      },
      "source": [
        "from google.colab import drive\n",
        "drive.mount('/content/drive')"
      ],
      "execution_count": null,
      "outputs": [
        {
          "output_type": "stream",
          "text": [
            "Mounted at /content/drive\n"
          ],
          "name": "stdout"
        }
      ]
    },
    {
      "cell_type": "code",
      "metadata": {
        "colab": {
          "base_uri": "https://localhost:8080/"
        },
        "id": "i2xwFY_h5vYP",
        "outputId": "42de8170-e7ab-4abc-8c98-626d068f89c5"
      },
      "source": [
        "cd /content/drive/MyDrive/samsung2/"
      ],
      "execution_count": null,
      "outputs": [
        {
          "output_type": "stream",
          "text": [
            "/content/drive/MyDrive/samsung2\n"
          ],
          "name": "stdout"
        }
      ]
    },
    {
      "cell_type": "code",
      "metadata": {
        "colab": {
          "base_uri": "https://localhost:8080/",
          "height": 539
        },
        "id": "Mr_DoYiz1oGo",
        "outputId": "343f929e-4eab-4271-81da-67aab8071010"
      },
      "source": [
        "import pandas as pd\n",
        "\n",
        "df = pd.read_csv('samsung_sk_KOSPI.csv', names= ['date','SamsungOpen','SamsungHigh','SamsungLow','SamsungChange','SamsungVolume',\n",
        "                                        'SkhynixOpen','SkhynixHigh','SkhynixLow','SkhynixClose','SkhynixVolume','SkhynixChange',\n",
        "                                        'KOSPIOpen','KOSPIHigh','KOSPILow','KOSPIClose','KOSPIVolume','KOSPIChange','newscount','news_sentiment','SamsungClose'])\n",
        "\n",
        "df.head(10)"
      ],
      "execution_count": null,
      "outputs": [
        {
          "output_type": "execute_result",
          "data": {
            "text/html": [
              "<div>\n",
              "<style scoped>\n",
              "    .dataframe tbody tr th:only-of-type {\n",
              "        vertical-align: middle;\n",
              "    }\n",
              "\n",
              "    .dataframe tbody tr th {\n",
              "        vertical-align: top;\n",
              "    }\n",
              "\n",
              "    .dataframe thead th {\n",
              "        text-align: right;\n",
              "    }\n",
              "</style>\n",
              "<table border=\"1\" class=\"dataframe\">\n",
              "  <thead>\n",
              "    <tr style=\"text-align: right;\">\n",
              "      <th></th>\n",
              "      <th>date</th>\n",
              "      <th>SamsungOpen</th>\n",
              "      <th>SamsungHigh</th>\n",
              "      <th>SamsungLow</th>\n",
              "      <th>SamsungChange</th>\n",
              "      <th>SamsungVolume</th>\n",
              "      <th>SkhynixOpen</th>\n",
              "      <th>SkhynixHigh</th>\n",
              "      <th>SkhynixLow</th>\n",
              "      <th>SkhynixClose</th>\n",
              "      <th>SkhynixVolume</th>\n",
              "      <th>SkhynixChange</th>\n",
              "      <th>KOSPIOpen</th>\n",
              "      <th>KOSPIHigh</th>\n",
              "      <th>KOSPILow</th>\n",
              "      <th>KOSPIClose</th>\n",
              "      <th>KOSPIVolume</th>\n",
              "      <th>KOSPIChange</th>\n",
              "      <th>newscount</th>\n",
              "      <th>news_sentiment</th>\n",
              "      <th>SamsungClose</th>\n",
              "    </tr>\n",
              "  </thead>\n",
              "  <tbody>\n",
              "    <tr>\n",
              "      <th>0</th>\n",
              "      <td>2008-01-02</td>\n",
              "      <td>11180</td>\n",
              "      <td>11200</td>\n",
              "      <td>10840</td>\n",
              "      <td>-0.021583</td>\n",
              "      <td>360944</td>\n",
              "      <td>26000</td>\n",
              "      <td>26100</td>\n",
              "      <td>24800</td>\n",
              "      <td>24850</td>\n",
              "      <td>3440780</td>\n",
              "      <td>-0.042389</td>\n",
              "      <td>1853.45</td>\n",
              "      <td>1891.45</td>\n",
              "      <td>1892.50</td>\n",
              "      <td>1852.78</td>\n",
              "      <td>247090000</td>\n",
              "      <td>-0.0230</td>\n",
              "      <td>0</td>\n",
              "      <td>0.0</td>\n",
              "      <td>10880</td>\n",
              "    </tr>\n",
              "    <tr>\n",
              "      <th>1</th>\n",
              "      <td>2008-01-03</td>\n",
              "      <td>10760</td>\n",
              "      <td>11060</td>\n",
              "      <td>10640</td>\n",
              "      <td>0.003676</td>\n",
              "      <td>386930</td>\n",
              "      <td>24400</td>\n",
              "      <td>24850</td>\n",
              "      <td>24100</td>\n",
              "      <td>24600</td>\n",
              "      <td>2770877</td>\n",
              "      <td>-0.010060</td>\n",
              "      <td>1852.73</td>\n",
              "      <td>1834.44</td>\n",
              "      <td>1858.08</td>\n",
              "      <td>1821.61</td>\n",
              "      <td>253670000</td>\n",
              "      <td>-0.0004</td>\n",
              "      <td>0</td>\n",
              "      <td>0.0</td>\n",
              "      <td>10920</td>\n",
              "    </tr>\n",
              "    <tr>\n",
              "      <th>2</th>\n",
              "      <td>2008-01-04</td>\n",
              "      <td>10920</td>\n",
              "      <td>10960</td>\n",
              "      <td>10760</td>\n",
              "      <td>-0.012821</td>\n",
              "      <td>359947</td>\n",
              "      <td>24500</td>\n",
              "      <td>24600</td>\n",
              "      <td>24000</td>\n",
              "      <td>24400</td>\n",
              "      <td>3164048</td>\n",
              "      <td>-0.008130</td>\n",
              "      <td>1863.90</td>\n",
              "      <td>1853.54</td>\n",
              "      <td>1869.76</td>\n",
              "      <td>1824.41</td>\n",
              "      <td>299080000</td>\n",
              "      <td>0.0060</td>\n",
              "      <td>1</td>\n",
              "      <td>0.0</td>\n",
              "      <td>10780</td>\n",
              "    </tr>\n",
              "    <tr>\n",
              "      <th>3</th>\n",
              "      <td>2008-01-07</td>\n",
              "      <td>10360</td>\n",
              "      <td>10480</td>\n",
              "      <td>10340</td>\n",
              "      <td>-0.037106</td>\n",
              "      <td>795744</td>\n",
              "      <td>23500</td>\n",
              "      <td>23800</td>\n",
              "      <td>23350</td>\n",
              "      <td>23600</td>\n",
              "      <td>4062797</td>\n",
              "      <td>-0.032787</td>\n",
              "      <td>1831.14</td>\n",
              "      <td>1815.73</td>\n",
              "      <td>1840.99</td>\n",
              "      <td>1814.35</td>\n",
              "      <td>268130000</td>\n",
              "      <td>-0.0176</td>\n",
              "      <td>0</td>\n",
              "      <td>0.0</td>\n",
              "      <td>10380</td>\n",
              "    </tr>\n",
              "    <tr>\n",
              "      <th>4</th>\n",
              "      <td>2008-01-08</td>\n",
              "      <td>10380</td>\n",
              "      <td>10480</td>\n",
              "      <td>10320</td>\n",
              "      <td>-0.005780</td>\n",
              "      <td>495674</td>\n",
              "      <td>23400</td>\n",
              "      <td>23550</td>\n",
              "      <td>22950</td>\n",
              "      <td>23100</td>\n",
              "      <td>3245201</td>\n",
              "      <td>-0.021186</td>\n",
              "      <td>1826.23</td>\n",
              "      <td>1838.64</td>\n",
              "      <td>1840.62</td>\n",
              "      <td>1818.69</td>\n",
              "      <td>296570000</td>\n",
              "      <td>-0.0027</td>\n",
              "      <td>1</td>\n",
              "      <td>0.2</td>\n",
              "      <td>10320</td>\n",
              "    </tr>\n",
              "    <tr>\n",
              "      <th>5</th>\n",
              "      <td>2008-01-09</td>\n",
              "      <td>10340</td>\n",
              "      <td>10580</td>\n",
              "      <td>10260</td>\n",
              "      <td>0.017442</td>\n",
              "      <td>477309</td>\n",
              "      <td>22650</td>\n",
              "      <td>23900</td>\n",
              "      <td>22550</td>\n",
              "      <td>23500</td>\n",
              "      <td>3217076</td>\n",
              "      <td>0.017316</td>\n",
              "      <td>1844.47</td>\n",
              "      <td>1802.06</td>\n",
              "      <td>1844.47</td>\n",
              "      <td>1794.15</td>\n",
              "      <td>277670000</td>\n",
              "      <td>0.0100</td>\n",
              "      <td>0</td>\n",
              "      <td>0.0</td>\n",
              "      <td>10500</td>\n",
              "    </tr>\n",
              "    <tr>\n",
              "      <th>6</th>\n",
              "      <td>2008-01-10</td>\n",
              "      <td>10439</td>\n",
              "      <td>10580</td>\n",
              "      <td>10320</td>\n",
              "      <td>-0.017143</td>\n",
              "      <td>631027</td>\n",
              "      <td>23700</td>\n",
              "      <td>24100</td>\n",
              "      <td>23300</td>\n",
              "      <td>23300</td>\n",
              "      <td>1980789</td>\n",
              "      <td>-0.008511</td>\n",
              "      <td>1824.78</td>\n",
              "      <td>1847.94</td>\n",
              "      <td>1855.07</td>\n",
              "      <td>1824.78</td>\n",
              "      <td>315480000</td>\n",
              "      <td>-0.0107</td>\n",
              "      <td>0</td>\n",
              "      <td>0.0</td>\n",
              "      <td>10320</td>\n",
              "    </tr>\n",
              "    <tr>\n",
              "      <th>7</th>\n",
              "      <td>2008-01-11</td>\n",
              "      <td>10360</td>\n",
              "      <td>10520</td>\n",
              "      <td>10220</td>\n",
              "      <td>0.000000</td>\n",
              "      <td>468503</td>\n",
              "      <td>23850</td>\n",
              "      <td>24150</td>\n",
              "      <td>23350</td>\n",
              "      <td>23700</td>\n",
              "      <td>3832372</td>\n",
              "      <td>0.017167</td>\n",
              "      <td>1782.27</td>\n",
              "      <td>1844.57</td>\n",
              "      <td>1847.11</td>\n",
              "      <td>1776.26</td>\n",
              "      <td>280820000</td>\n",
              "      <td>-0.0233</td>\n",
              "      <td>0</td>\n",
              "      <td>0.0</td>\n",
              "      <td>10320</td>\n",
              "    </tr>\n",
              "    <tr>\n",
              "      <th>8</th>\n",
              "      <td>2008-01-14</td>\n",
              "      <td>10280</td>\n",
              "      <td>10520</td>\n",
              "      <td>10280</td>\n",
              "      <td>0.017442</td>\n",
              "      <td>443340</td>\n",
              "      <td>23800</td>\n",
              "      <td>23950</td>\n",
              "      <td>23150</td>\n",
              "      <td>23250</td>\n",
              "      <td>1868227</td>\n",
              "      <td>-0.018987</td>\n",
              "      <td>1765.88</td>\n",
              "      <td>1781.00</td>\n",
              "      <td>1790.69</td>\n",
              "      <td>1754.13</td>\n",
              "      <td>249320000</td>\n",
              "      <td>-0.0092</td>\n",
              "      <td>0</td>\n",
              "      <td>0.0</td>\n",
              "      <td>10500</td>\n",
              "    </tr>\n",
              "    <tr>\n",
              "      <th>9</th>\n",
              "      <td>2008-01-15</td>\n",
              "      <td>10660</td>\n",
              "      <td>10820</td>\n",
              "      <td>10420</td>\n",
              "      <td>0.013333</td>\n",
              "      <td>805679</td>\n",
              "      <td>23750</td>\n",
              "      <td>23950</td>\n",
              "      <td>22600</td>\n",
              "      <td>22750</td>\n",
              "      <td>3431690</td>\n",
              "      <td>-0.021505</td>\n",
              "      <td>1746.95</td>\n",
              "      <td>1781.53</td>\n",
              "      <td>1781.53</td>\n",
              "      <td>1723.14</td>\n",
              "      <td>295550000</td>\n",
              "      <td>-0.0107</td>\n",
              "      <td>0</td>\n",
              "      <td>0.0</td>\n",
              "      <td>10640</td>\n",
              "    </tr>\n",
              "  </tbody>\n",
              "</table>\n",
              "</div>"
            ],
            "text/plain": [
              "         date  SamsungOpen  ...  news_sentiment  SamsungClose\n",
              "0  2008-01-02        11180  ...             0.0         10880\n",
              "1  2008-01-03        10760  ...             0.0         10920\n",
              "2  2008-01-04        10920  ...             0.0         10780\n",
              "3  2008-01-07        10360  ...             0.0         10380\n",
              "4  2008-01-08        10380  ...             0.2         10320\n",
              "5  2008-01-09        10340  ...             0.0         10500\n",
              "6  2008-01-10        10439  ...             0.0         10320\n",
              "7  2008-01-11        10360  ...             0.0         10320\n",
              "8  2008-01-14        10280  ...             0.0         10500\n",
              "9  2008-01-15        10660  ...             0.0         10640\n",
              "\n",
              "[10 rows x 21 columns]"
            ]
          },
          "metadata": {
            "tags": []
          },
          "execution_count": 4
        }
      ]
    },
    {
      "cell_type": "code",
      "metadata": {
        "id": "8G2xphdn9WJB"
      },
      "source": [
        "df['date'] = pd.to_datetime(df['date'], format='%Y-%m-%d')"
      ],
      "execution_count": null,
      "outputs": []
    },
    {
      "cell_type": "code",
      "metadata": {
        "id": "XuKOEska_7pK",
        "colab": {
          "base_uri": "https://localhost:8080/",
          "height": 304
        },
        "outputId": "e0e16cbf-c4de-439e-e8b0-56d6930a7d4f"
      },
      "source": [
        "df['year'] = df['date'].dt.year\n",
        "df['month'] = df['date'].dt.month\n",
        "df['day'] = df['date'].dt.day\n",
        "df.head()"
      ],
      "execution_count": null,
      "outputs": [
        {
          "output_type": "execute_result",
          "data": {
            "text/html": [
              "<div>\n",
              "<style scoped>\n",
              "    .dataframe tbody tr th:only-of-type {\n",
              "        vertical-align: middle;\n",
              "    }\n",
              "\n",
              "    .dataframe tbody tr th {\n",
              "        vertical-align: top;\n",
              "    }\n",
              "\n",
              "    .dataframe thead th {\n",
              "        text-align: right;\n",
              "    }\n",
              "</style>\n",
              "<table border=\"1\" class=\"dataframe\">\n",
              "  <thead>\n",
              "    <tr style=\"text-align: right;\">\n",
              "      <th></th>\n",
              "      <th>date</th>\n",
              "      <th>SamsungOpen</th>\n",
              "      <th>SamsungHigh</th>\n",
              "      <th>SamsungLow</th>\n",
              "      <th>SamsungChange</th>\n",
              "      <th>SamsungVolume</th>\n",
              "      <th>SkhynixOpen</th>\n",
              "      <th>SkhynixHigh</th>\n",
              "      <th>SkhynixLow</th>\n",
              "      <th>SkhynixClose</th>\n",
              "      <th>SkhynixVolume</th>\n",
              "      <th>SkhynixChange</th>\n",
              "      <th>KOSPIOpen</th>\n",
              "      <th>KOSPIHigh</th>\n",
              "      <th>KOSPILow</th>\n",
              "      <th>KOSPIClose</th>\n",
              "      <th>KOSPIVolume</th>\n",
              "      <th>KOSPIChange</th>\n",
              "      <th>newscount</th>\n",
              "      <th>news_sentiment</th>\n",
              "      <th>SamsungClose</th>\n",
              "      <th>year</th>\n",
              "      <th>month</th>\n",
              "      <th>day</th>\n",
              "    </tr>\n",
              "  </thead>\n",
              "  <tbody>\n",
              "    <tr>\n",
              "      <th>0</th>\n",
              "      <td>2008-01-02</td>\n",
              "      <td>11180</td>\n",
              "      <td>11200</td>\n",
              "      <td>10840</td>\n",
              "      <td>-0.021583</td>\n",
              "      <td>360944</td>\n",
              "      <td>26000</td>\n",
              "      <td>26100</td>\n",
              "      <td>24800</td>\n",
              "      <td>24850</td>\n",
              "      <td>3440780</td>\n",
              "      <td>-0.042389</td>\n",
              "      <td>1853.45</td>\n",
              "      <td>1891.45</td>\n",
              "      <td>1892.50</td>\n",
              "      <td>1852.78</td>\n",
              "      <td>247090000</td>\n",
              "      <td>-0.0230</td>\n",
              "      <td>0</td>\n",
              "      <td>0.0</td>\n",
              "      <td>10880</td>\n",
              "      <td>2008</td>\n",
              "      <td>1</td>\n",
              "      <td>2</td>\n",
              "    </tr>\n",
              "    <tr>\n",
              "      <th>1</th>\n",
              "      <td>2008-01-03</td>\n",
              "      <td>10760</td>\n",
              "      <td>11060</td>\n",
              "      <td>10640</td>\n",
              "      <td>0.003676</td>\n",
              "      <td>386930</td>\n",
              "      <td>24400</td>\n",
              "      <td>24850</td>\n",
              "      <td>24100</td>\n",
              "      <td>24600</td>\n",
              "      <td>2770877</td>\n",
              "      <td>-0.010060</td>\n",
              "      <td>1852.73</td>\n",
              "      <td>1834.44</td>\n",
              "      <td>1858.08</td>\n",
              "      <td>1821.61</td>\n",
              "      <td>253670000</td>\n",
              "      <td>-0.0004</td>\n",
              "      <td>0</td>\n",
              "      <td>0.0</td>\n",
              "      <td>10920</td>\n",
              "      <td>2008</td>\n",
              "      <td>1</td>\n",
              "      <td>3</td>\n",
              "    </tr>\n",
              "    <tr>\n",
              "      <th>2</th>\n",
              "      <td>2008-01-04</td>\n",
              "      <td>10920</td>\n",
              "      <td>10960</td>\n",
              "      <td>10760</td>\n",
              "      <td>-0.012821</td>\n",
              "      <td>359947</td>\n",
              "      <td>24500</td>\n",
              "      <td>24600</td>\n",
              "      <td>24000</td>\n",
              "      <td>24400</td>\n",
              "      <td>3164048</td>\n",
              "      <td>-0.008130</td>\n",
              "      <td>1863.90</td>\n",
              "      <td>1853.54</td>\n",
              "      <td>1869.76</td>\n",
              "      <td>1824.41</td>\n",
              "      <td>299080000</td>\n",
              "      <td>0.0060</td>\n",
              "      <td>1</td>\n",
              "      <td>0.0</td>\n",
              "      <td>10780</td>\n",
              "      <td>2008</td>\n",
              "      <td>1</td>\n",
              "      <td>4</td>\n",
              "    </tr>\n",
              "    <tr>\n",
              "      <th>3</th>\n",
              "      <td>2008-01-07</td>\n",
              "      <td>10360</td>\n",
              "      <td>10480</td>\n",
              "      <td>10340</td>\n",
              "      <td>-0.037106</td>\n",
              "      <td>795744</td>\n",
              "      <td>23500</td>\n",
              "      <td>23800</td>\n",
              "      <td>23350</td>\n",
              "      <td>23600</td>\n",
              "      <td>4062797</td>\n",
              "      <td>-0.032787</td>\n",
              "      <td>1831.14</td>\n",
              "      <td>1815.73</td>\n",
              "      <td>1840.99</td>\n",
              "      <td>1814.35</td>\n",
              "      <td>268130000</td>\n",
              "      <td>-0.0176</td>\n",
              "      <td>0</td>\n",
              "      <td>0.0</td>\n",
              "      <td>10380</td>\n",
              "      <td>2008</td>\n",
              "      <td>1</td>\n",
              "      <td>7</td>\n",
              "    </tr>\n",
              "    <tr>\n",
              "      <th>4</th>\n",
              "      <td>2008-01-08</td>\n",
              "      <td>10380</td>\n",
              "      <td>10480</td>\n",
              "      <td>10320</td>\n",
              "      <td>-0.005780</td>\n",
              "      <td>495674</td>\n",
              "      <td>23400</td>\n",
              "      <td>23550</td>\n",
              "      <td>22950</td>\n",
              "      <td>23100</td>\n",
              "      <td>3245201</td>\n",
              "      <td>-0.021186</td>\n",
              "      <td>1826.23</td>\n",
              "      <td>1838.64</td>\n",
              "      <td>1840.62</td>\n",
              "      <td>1818.69</td>\n",
              "      <td>296570000</td>\n",
              "      <td>-0.0027</td>\n",
              "      <td>1</td>\n",
              "      <td>0.2</td>\n",
              "      <td>10320</td>\n",
              "      <td>2008</td>\n",
              "      <td>1</td>\n",
              "      <td>8</td>\n",
              "    </tr>\n",
              "  </tbody>\n",
              "</table>\n",
              "</div>"
            ],
            "text/plain": [
              "        date  SamsungOpen  SamsungHigh  ...  year  month  day\n",
              "0 2008-01-02        11180        11200  ...  2008      1    2\n",
              "1 2008-01-03        10760        11060  ...  2008      1    3\n",
              "2 2008-01-04        10920        10960  ...  2008      1    4\n",
              "3 2008-01-07        10360        10480  ...  2008      1    7\n",
              "4 2008-01-08        10380        10480  ...  2008      1    8\n",
              "\n",
              "[5 rows x 24 columns]"
            ]
          },
          "metadata": {
            "tags": []
          },
          "execution_count": 6
        }
      ]
    },
    {
      "cell_type": "code",
      "metadata": {
        "colab": {
          "base_uri": "https://localhost:8080/"
        },
        "id": "-z2ABF_wARfU",
        "outputId": "2d6e9412-ba66-4936-a825-5d4bed96cdf9"
      },
      "source": [
        "from sklearn.preprocessing import MinMaxScaler\n",
        "\n",
        "scaler = MinMaxScaler()\n",
        "scale_cols = ['SamsungOpen','SamsungHigh','SamsungLow','SamsungClose','SamsungVolume',\n",
        "              'SkhynixOpen','SkhynixHigh','SkhynixLow','SkhynixClose','SkhynixVolume','SkhynixChange',\n",
        "              'KOSPIOpen','KOSPIHigh','KOSPILow','KOSPIClose','KOSPIVolume','KOSPIChange','newscount','news_sentiment','SamsungChange']\n",
        "df_scaled = scaler.fit_transform(df[scale_cols])\n",
        "\n",
        "df_scaled = pd.DataFrame(df_scaled)\n",
        "df_scaled.columns = scale_cols\n",
        "\n",
        "print(df_scaled)"
      ],
      "execution_count": null,
      "outputs": [
        {
          "output_type": "stream",
          "text": [
            "      SamsungOpen  SamsungHigh  ...  news_sentiment  SamsungChange\n",
            "0        0.123810     0.115702  ...        0.437500       0.432625\n",
            "1        0.119158     0.114256  ...        0.437500       0.526843\n",
            "2        0.120930     0.113223  ...        0.437500       0.465308\n",
            "3        0.114729     0.108264  ...        0.437500       0.374723\n",
            "4        0.114950     0.108264  ...        0.562500       0.491568\n",
            "...           ...          ...  ...             ...            ...\n",
            "3264     0.916944     0.856405  ...        0.515625       0.490605\n",
            "3265     0.916944     0.865702  ...        0.562500       0.540323\n",
            "3266     0.909192     0.852273  ...        0.437500       0.468135\n",
            "3267     0.908084     0.850207  ...        0.395833       0.517684\n",
            "3268     0.914729     0.856405  ...        0.468750       0.504032\n",
            "\n",
            "[3269 rows x 20 columns]\n"
          ],
          "name": "stdout"
        }
      ]
    },
    {
      "cell_type": "code",
      "metadata": {
        "id": "GOynXw2lBmVV"
      },
      "source": [
        "TEST_SIZE = 200\n",
        "WINDOW_SIZE = 20\n",
        "\n",
        "train = df_scaled[:-TEST_SIZE]\n",
        "test = df_scaled[-TEST_SIZE:]"
      ],
      "execution_count": null,
      "outputs": []
    },
    {
      "cell_type": "code",
      "metadata": {
        "id": "H5nHklxdA5qO"
      },
      "source": [
        "def make_dataset(data, label, window_size=20):\n",
        "    feature_list = []\n",
        "    label_list = []\n",
        "    for i in range(len(data) - window_size):\n",
        "        feature_list.append(np.array(data.iloc[i:i+window_size]))\n",
        "        label_list.append(np.array(label.iloc[i+window_size]))\n",
        "    return np.array(feature_list), np.array(label_list)"
      ],
      "execution_count": null,
      "outputs": []
    },
    {
      "cell_type": "code",
      "metadata": {
        "colab": {
          "base_uri": "https://localhost:8080/"
        },
        "id": "bPfJwQzVBStA",
        "outputId": "62d63a4a-d5ef-4ec1-8e9d-dfe266d8b6ed"
      },
      "source": [
        "import numpy as np\n",
        "\n",
        "feature_cols = ['SamsungOpen','SamsungHigh','SamsungLow','SamsungChange','SamsungVolume',\n",
        "              'SkhynixOpen','SkhynixHigh','SkhynixLow','SkhynixClose','SkhynixVolume','SkhynixChange',\n",
        "              'KOSPIOpen','KOSPIHigh','KOSPILow','KOSPIClose','KOSPIVolume','KOSPIChange','newscount','news_sentiment']\n",
        "label_cols = ['SamsungClose']\n",
        "\n",
        "train_feature = train[feature_cols]\n",
        "train_label = train[label_cols]\n",
        "\n",
        "train_feature, train_label = make_dataset(train_feature, train_label, 20)\n",
        "\n",
        "from sklearn.model_selection import train_test_split\n",
        "x_train, x_valid, y_train, y_valid = train_test_split(train_feature, train_label, test_size=0.2)\n",
        "\n",
        "x_train.shape, x_valid.shape"
      ],
      "execution_count": null,
      "outputs": [
        {
          "output_type": "execute_result",
          "data": {
            "text/plain": [
              "((2439, 20, 19), (610, 20, 19))"
            ]
          },
          "metadata": {
            "tags": []
          },
          "execution_count": 10
        }
      ]
    },
    {
      "cell_type": "code",
      "metadata": {
        "colab": {
          "base_uri": "https://localhost:8080/"
        },
        "id": "tPTpPRZFnJZ7",
        "outputId": "ed2bff95-5c8e-49db-dc44-fad6a7ccf10d"
      },
      "source": [
        "test_feature = test[feature_cols]\n",
        "test_label = test[label_cols]\n",
        "\n",
        "test_feature.shape, test_label.shape"
      ],
      "execution_count": null,
      "outputs": [
        {
          "output_type": "execute_result",
          "data": {
            "text/plain": [
              "((200, 19), (200, 1))"
            ]
          },
          "metadata": {
            "tags": []
          },
          "execution_count": 11
        }
      ]
    },
    {
      "cell_type": "code",
      "metadata": {
        "colab": {
          "base_uri": "https://localhost:8080/"
        },
        "id": "KiPm_HnTnbql",
        "outputId": "162e88b3-ffe6-48ac-e4ef-fc2b195386ce"
      },
      "source": [
        "test_feature, test_label = make_dataset(test_feature, test_label, 20)\n",
        "test_feature.shape, test_label.shape"
      ],
      "execution_count": null,
      "outputs": [
        {
          "output_type": "execute_result",
          "data": {
            "text/plain": [
              "((180, 20, 19), (180, 1))"
            ]
          },
          "metadata": {
            "tags": []
          },
          "execution_count": 12
        }
      ]
    },
    {
      "cell_type": "code",
      "metadata": {
        "id": "mUPPqCBDnf4y"
      },
      "source": [
        "from keras.models import Sequential\n",
        "from keras.layers import Dense\n",
        "from keras.callbacks import EarlyStopping, ModelCheckpoint\n",
        "from keras.layers import LSTM\n",
        "\n",
        "model = Sequential()\n",
        "model.add(LSTM(19, \n",
        "               input_shape=(train_feature.shape[1], train_feature.shape[2]), \n",
        "               activation='relu', \n",
        "               return_sequences=False)\n",
        "          )\n",
        "\n",
        "model.add(Dense(1))"
      ],
      "execution_count": null,
      "outputs": []
    },
    {
      "cell_type": "code",
      "metadata": {
        "colab": {
          "base_uri": "https://localhost:8080/"
        },
        "id": "k0j-QFyGnp73",
        "outputId": "a272b61f-252f-4a5e-bd27-64084571b1f1"
      },
      "source": [
        "import os\n",
        "\n",
        "model.compile(loss='mean_squared_error', optimizer='adam')\n",
        "early_stop = EarlyStopping(monitor='val_loss', patience=5)\n",
        "\n",
        "model_path = 'model'\n",
        "filename = os.path.join(model_path, 'tmp_checkpoint.h5')\n",
        "checkpoint = ModelCheckpoint(filename, monitor='val_loss', verbose=1, save_best_only=True, mode='auto')\n",
        "\n",
        "history = model.fit(x_train, y_train, \n",
        "                                    epochs=200, \n",
        "                                    batch_size=16,\n",
        "                                    validation_data=(x_valid, y_valid), \n",
        "                                    callbacks=[early_stop, checkpoint])"
      ],
      "execution_count": null,
      "outputs": [
        {
          "output_type": "stream",
          "text": [
            "Epoch 1/200\n",
            "153/153 [==============================] - 22s 12ms/step - loss: 0.0050 - val_loss: 8.4569e-04\n",
            "\n",
            "Epoch 00001: val_loss improved from inf to 0.00085, saving model to model/tmp_checkpoint.h5\n",
            "Epoch 2/200\n",
            "153/153 [==============================] - 1s 7ms/step - loss: 5.0983e-04 - val_loss: 2.9890e-04\n",
            "\n",
            "Epoch 00002: val_loss improved from 0.00085 to 0.00030, saving model to model/tmp_checkpoint.h5\n",
            "Epoch 3/200\n",
            "153/153 [==============================] - 1s 7ms/step - loss: 3.5920e-04 - val_loss: 2.0880e-04\n",
            "\n",
            "Epoch 00003: val_loss improved from 0.00030 to 0.00021, saving model to model/tmp_checkpoint.h5\n",
            "Epoch 4/200\n",
            "153/153 [==============================] - 1s 7ms/step - loss: 3.6158e-04 - val_loss: 2.6017e-04\n",
            "\n",
            "Epoch 00004: val_loss did not improve from 0.00021\n",
            "Epoch 5/200\n",
            "153/153 [==============================] - 1s 7ms/step - loss: 1.8330e-04 - val_loss: 4.5483e-04\n",
            "\n",
            "Epoch 00005: val_loss did not improve from 0.00021\n",
            "Epoch 6/200\n",
            "153/153 [==============================] - 1s 7ms/step - loss: 1.9159e-04 - val_loss: 1.8119e-04\n",
            "\n",
            "Epoch 00006: val_loss improved from 0.00021 to 0.00018, saving model to model/tmp_checkpoint.h5\n",
            "Epoch 7/200\n",
            "153/153 [==============================] - 1s 7ms/step - loss: 1.8240e-04 - val_loss: 1.0183e-04\n",
            "\n",
            "Epoch 00007: val_loss improved from 0.00018 to 0.00010, saving model to model/tmp_checkpoint.h5\n",
            "Epoch 8/200\n",
            "153/153 [==============================] - 1s 7ms/step - loss: 1.5877e-04 - val_loss: 1.7815e-04\n",
            "\n",
            "Epoch 00008: val_loss did not improve from 0.00010\n",
            "Epoch 9/200\n",
            "153/153 [==============================] - 1s 7ms/step - loss: 1.3954e-04 - val_loss: 8.5210e-05\n",
            "\n",
            "Epoch 00009: val_loss improved from 0.00010 to 0.00009, saving model to model/tmp_checkpoint.h5\n",
            "Epoch 10/200\n",
            "153/153 [==============================] - 1s 7ms/step - loss: 1.6655e-04 - val_loss: 8.8956e-05\n",
            "\n",
            "Epoch 00010: val_loss did not improve from 0.00009\n",
            "Epoch 11/200\n",
            "153/153 [==============================] - 1s 7ms/step - loss: 1.5797e-04 - val_loss: 7.7965e-05\n",
            "\n",
            "Epoch 00011: val_loss improved from 0.00009 to 0.00008, saving model to model/tmp_checkpoint.h5\n",
            "Epoch 12/200\n",
            "153/153 [==============================] - 1s 7ms/step - loss: 1.2319e-04 - val_loss: 1.4090e-04\n",
            "\n",
            "Epoch 00012: val_loss did not improve from 0.00008\n",
            "Epoch 13/200\n",
            "153/153 [==============================] - 1s 7ms/step - loss: 1.5770e-04 - val_loss: 7.6978e-05\n",
            "\n",
            "Epoch 00013: val_loss improved from 0.00008 to 0.00008, saving model to model/tmp_checkpoint.h5\n",
            "Epoch 14/200\n",
            "153/153 [==============================] - 1s 7ms/step - loss: 1.6996e-04 - val_loss: 1.3241e-04\n",
            "\n",
            "Epoch 00014: val_loss did not improve from 0.00008\n",
            "Epoch 15/200\n",
            "153/153 [==============================] - 1s 7ms/step - loss: 1.3001e-04 - val_loss: 7.6372e-05\n",
            "\n",
            "Epoch 00015: val_loss improved from 0.00008 to 0.00008, saving model to model/tmp_checkpoint.h5\n",
            "Epoch 16/200\n",
            "153/153 [==============================] - 1s 7ms/step - loss: 1.0820e-04 - val_loss: 8.8810e-05\n",
            "\n",
            "Epoch 00016: val_loss did not improve from 0.00008\n",
            "Epoch 17/200\n",
            "153/153 [==============================] - 1s 7ms/step - loss: 1.2473e-04 - val_loss: 7.0566e-05\n",
            "\n",
            "Epoch 00017: val_loss improved from 0.00008 to 0.00007, saving model to model/tmp_checkpoint.h5\n",
            "Epoch 18/200\n",
            "153/153 [==============================] - 1s 7ms/step - loss: 1.0207e-04 - val_loss: 9.8182e-05\n",
            "\n",
            "Epoch 00018: val_loss did not improve from 0.00007\n",
            "Epoch 19/200\n",
            "153/153 [==============================] - 1s 7ms/step - loss: 1.3202e-04 - val_loss: 6.9908e-05\n",
            "\n",
            "Epoch 00019: val_loss improved from 0.00007 to 0.00007, saving model to model/tmp_checkpoint.h5\n",
            "Epoch 20/200\n",
            "153/153 [==============================] - 1s 8ms/step - loss: 8.0183e-05 - val_loss: 6.3083e-05\n",
            "\n",
            "Epoch 00020: val_loss improved from 0.00007 to 0.00006, saving model to model/tmp_checkpoint.h5\n",
            "Epoch 21/200\n",
            "153/153 [==============================] - 1s 7ms/step - loss: 9.9454e-05 - val_loss: 6.7507e-05\n",
            "\n",
            "Epoch 00021: val_loss did not improve from 0.00006\n",
            "Epoch 22/200\n",
            "153/153 [==============================] - 1s 7ms/step - loss: 1.0619e-04 - val_loss: 9.4099e-05\n",
            "\n",
            "Epoch 00022: val_loss did not improve from 0.00006\n",
            "Epoch 23/200\n",
            "153/153 [==============================] - 1s 7ms/step - loss: 8.3291e-05 - val_loss: 8.8394e-05\n",
            "\n",
            "Epoch 00023: val_loss did not improve from 0.00006\n",
            "Epoch 24/200\n",
            "153/153 [==============================] - 1s 7ms/step - loss: 8.9147e-05 - val_loss: 6.5577e-05\n",
            "\n",
            "Epoch 00024: val_loss did not improve from 0.00006\n",
            "Epoch 25/200\n",
            "153/153 [==============================] - 1s 8ms/step - loss: 8.1857e-05 - val_loss: 6.1242e-05\n",
            "\n",
            "Epoch 00025: val_loss improved from 0.00006 to 0.00006, saving model to model/tmp_checkpoint.h5\n",
            "Epoch 26/200\n",
            "153/153 [==============================] - 1s 7ms/step - loss: 7.3755e-05 - val_loss: 6.9746e-05\n",
            "\n",
            "Epoch 00026: val_loss did not improve from 0.00006\n",
            "Epoch 27/200\n",
            "153/153 [==============================] - 1s 7ms/step - loss: 7.6560e-05 - val_loss: 7.1300e-05\n",
            "\n",
            "Epoch 00027: val_loss did not improve from 0.00006\n",
            "Epoch 28/200\n",
            "153/153 [==============================] - 1s 7ms/step - loss: 7.9346e-05 - val_loss: 8.5292e-05\n",
            "\n",
            "Epoch 00028: val_loss did not improve from 0.00006\n",
            "Epoch 29/200\n",
            "153/153 [==============================] - 1s 7ms/step - loss: 7.1576e-05 - val_loss: 6.2736e-05\n",
            "\n",
            "Epoch 00029: val_loss did not improve from 0.00006\n",
            "Epoch 30/200\n",
            "153/153 [==============================] - 1s 7ms/step - loss: 9.2190e-05 - val_loss: 6.1065e-05\n",
            "\n",
            "Epoch 00030: val_loss improved from 0.00006 to 0.00006, saving model to model/tmp_checkpoint.h5\n",
            "Epoch 31/200\n",
            "153/153 [==============================] - 1s 7ms/step - loss: 8.3666e-05 - val_loss: 5.7610e-05\n",
            "\n",
            "Epoch 00031: val_loss improved from 0.00006 to 0.00006, saving model to model/tmp_checkpoint.h5\n",
            "Epoch 32/200\n",
            "153/153 [==============================] - 1s 7ms/step - loss: 6.9729e-05 - val_loss: 7.5292e-05\n",
            "\n",
            "Epoch 00032: val_loss did not improve from 0.00006\n",
            "Epoch 33/200\n",
            "153/153 [==============================] - 1s 7ms/step - loss: 8.0066e-05 - val_loss: 6.0609e-05\n",
            "\n",
            "Epoch 00033: val_loss did not improve from 0.00006\n",
            "Epoch 34/200\n",
            "153/153 [==============================] - 1s 7ms/step - loss: 8.7208e-05 - val_loss: 1.4798e-04\n",
            "\n",
            "Epoch 00034: val_loss did not improve from 0.00006\n",
            "Epoch 35/200\n",
            "153/153 [==============================] - 1s 7ms/step - loss: 8.1711e-05 - val_loss: 6.2335e-05\n",
            "\n",
            "Epoch 00035: val_loss did not improve from 0.00006\n",
            "Epoch 36/200\n",
            "153/153 [==============================] - 1s 7ms/step - loss: 7.1462e-05 - val_loss: 6.8028e-05\n",
            "\n",
            "Epoch 00036: val_loss did not improve from 0.00006\n"
          ],
          "name": "stdout"
        }
      ]
    },
    {
      "cell_type": "code",
      "metadata": {
        "colab": {
          "base_uri": "https://localhost:8080/"
        },
        "id": "iHRbJNeGop-X",
        "outputId": "12e93f89-43c0-4b20-b58e-6f324d7e1d5b"
      },
      "source": [
        "cd model/"
      ],
      "execution_count": null,
      "outputs": [
        {
          "output_type": "stream",
          "text": [
            "/content/drive/My Drive/samsung2/model\n"
          ],
          "name": "stdout"
        }
      ]
    },
    {
      "cell_type": "code",
      "metadata": {
        "colab": {
          "base_uri": "https://localhost:8080/"
        },
        "id": "F3GtLNdOoAsj",
        "outputId": "9ccc44a6-d7c6-4c81-ee64-c5134202399e"
      },
      "source": [
        "model.load_weights('tmp_checkpoint.h5')\n",
        "pred = model.predict(test_feature)\n",
        "\n",
        "pred.shape"
      ],
      "execution_count": null,
      "outputs": [
        {
          "output_type": "execute_result",
          "data": {
            "text/plain": [
              "(180, 1)"
            ]
          },
          "metadata": {
            "tags": []
          },
          "execution_count": 16
        }
      ]
    },
    {
      "cell_type": "code",
      "metadata": {
        "id": "yHtpjK8aoOir"
      },
      "source": [
        "def reverse_min_max_scaling(org_x, x): #종가 예측값\n",
        "    org_x_np = np.asarray(org_x) \n",
        "    x_np = np.asarray(x)\n",
        "    return (x_np * (org_x_np.max() - org_x_np.min() + 1e-7)) + org_x_np.min()"
      ],
      "execution_count": null,
      "outputs": []
    },
    {
      "cell_type": "code",
      "metadata": {
        "id": "LVt-ekx9rLa1"
      },
      "source": [
        "test_predict = reverse_min_max_scaling(df['SamsungClose'],pred)\n",
        "test_price = reverse_min_max_scaling(df['SamsungClose'],test_label)"
      ],
      "execution_count": null,
      "outputs": []
    },
    {
      "cell_type": "code",
      "metadata": {
        "colab": {
          "base_uri": "https://localhost:8080/",
          "height": 554
        },
        "id": "FBbqU4FPoxPd",
        "outputId": "5b1cc638-ebd8-43e2-b54b-44d18f246987"
      },
      "source": [
        "from matplotlib import pyplot as plt # 3089\n",
        "\n",
        "plt.figure(figsize=(12,9))\n",
        "plt.plot(df.loc[3089:,['date']], df.loc[3089:,['SamsungClose']], label = 'acturl')\n",
        "plt.plot(df.loc[3089:,['date']], test_predict, label = 'prediction')\n",
        "plt.legend()\n",
        "plt.show"
      ],
      "execution_count": null,
      "outputs": [
        {
          "output_type": "execute_result",
          "data": {
            "text/plain": [
              "<function matplotlib.pyplot.show>"
            ]
          },
          "metadata": {
            "tags": []
          },
          "execution_count": 19
        },
        {
          "output_type": "display_data",
          "data": {
            "image/png": "[encoded data removed]",
            "text/plain": [
              "<Figure size 864x648 with 1 Axes>"
            ]
          },
          "metadata": {
            "tags": [],
            "needs_background": "light"
          }
        }
      ]
    }
  ]
}