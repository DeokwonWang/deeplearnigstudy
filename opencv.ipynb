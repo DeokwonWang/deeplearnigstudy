{
  "nbformat": 4,
  "nbformat_minor": 0,
  "metadata": {
    "colab": {
      "name": "opencv.ipynb",
      "provenance": [],
      "authorship_tag": "ABX9TyOdhicRy66kvkxcMb8op61z",
      "include_colab_link": true
    },
    "kernelspec": {
      "name": "python3",
      "display_name": "Python 3"
    },
    "language_info": {
      "name": "python"
    }
  },
  "cells": [
    {
      "cell_type": "markdown",
      "metadata": {
        "id": "view-in-github",
        "colab_type": "text"
      },
      "source": [
        "<a href=\"https://colab.research.google.com/github/DeokwonWang/deeplearnigstudy/blob/main/opencv.ipynb\" target=\"_parent\"><img src=\"https://colab.research.google.com/assets/colab-badge.svg\" alt=\"Open In Colab\"/></a>"
      ]
    },
    {
      "cell_type": "code",
      "metadata": {
        "colab": {
          "base_uri": "https://localhost:8080/"
        },
        "id": "ThmwlWFIxMUY",
        "outputId": "f4a3081a-6dff-4b08-b4b0-60585250ae00"
      },
      "source": [
        "from google.colab import drive\n",
        "drive.mount('/content/drive')"
      ],
      "execution_count": 1,
      "outputs": [
        {
          "output_type": "stream",
          "text": [
            "Mounted at /content/drive\n"
          ],
          "name": "stdout"
        }
      ]
    },
    {
      "cell_type": "code",
      "metadata": {
        "id": "h4oHhtyd84Yf"
      },
      "source": [
        "import sys\n",
        "import cv2\n",
        "\n",
        "img =  cv2.imread('/content/drive/MyDrive/cinemagraph/01_12530429.gif')\n",
        "\n",
        "cv2.namedWindow('image')\n",
        "cv2.imshow(img)\n",
        "cv2.waitKey()"
      ],
      "execution_count": null,
      "outputs": []
    }
  ]
}