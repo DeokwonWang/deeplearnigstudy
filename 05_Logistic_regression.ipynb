{
  "nbformat": 4,
  "nbformat_minor": 0,
  "metadata": {
    "colab": {
      "name": "05_Logistic_regression.ipynb",
      "provenance": [],
      "authorship_tag": "ABX9TyMwxL7KsRXt64v6A9IQTTi1",
      "include_colab_link": true
    },
    "kernelspec": {
      "name": "python3",
      "display_name": "Python 3"
    }
  },
  "cells": [
    {
      "cell_type": "markdown",
      "metadata": {
        "id": "view-in-github",
        "colab_type": "text"
      },
      "source": [
        "<a href=\"https://colab.research.google.com/github/DeokwonWang/deeplearnigstudy/blob/main/05_Logistic_regression.ipynb\" target=\"_parent\"><img src=\"https://colab.research.google.com/assets/colab-badge.svg\" alt=\"Open In Colab\"/></a>"
      ]
    },
    {
      "cell_type": "code",
      "metadata": {
        "id": "4U3PIpGumV02",
        "colab": {
          "base_uri": "https://localhost:8080/",
          "height": 283
        },
        "outputId": "9001b1d1-652a-4748-bea8-7cf80de332d9"
      },
      "source": [
        "import numpy as np\n",
        "import matplotlib.pyplot as plt\n",
        "\n",
        "# 공부 시간 x 과 성적 y 의 관계 리스트\n",
        "data=[\n",
        "      [2,0],\n",
        "      [4,0],\n",
        "      [6,0],\n",
        "      [8,1],\n",
        "      [10,1],\n",
        "      [12,1],\n",
        "      [14,1]\n",
        "]\n",
        "\n",
        "x_data=[i[0] for i in data]\n",
        "y_data=[i[1] for i in data]\n",
        "\n",
        "# 플롯\n",
        "plt.scatter(x_data, y_data)\n",
        "plt.xlim(0,15)\n",
        "plt.ylim(-0.1, 1.1)"
      ],
      "execution_count": null,
      "outputs": [
        {
          "output_type": "execute_result",
          "data": {
            "text/plain": [
              "(-0.1, 1.1)"
            ]
          },
          "metadata": {
            "tags": []
          },
          "execution_count": 2
        },
        {
          "output_type": "display_data",
          "data": {
            "image/png": "[encoded data removed]",
            "text/plain": [
              "<Figure size 432x288 with 1 Axes>"
            ]
          },
          "metadata": {
            "tags": [],
            "needs_background": "light"
          }
        }
      ]
    },
    {
      "cell_type": "code",
      "metadata": {
        "id": "-04F4YCgnYP7",
        "colab": {
          "base_uri": "https://localhost:8080/",
          "height": 395
        },
        "outputId": "89098d5f-b48c-44eb-adb1-7e150c5937b6"
      },
      "source": [
        "# 기울기 a와 절편 b의 값을 초기화\n",
        "a=0\n",
        "b=0\n",
        "\n",
        "# 학습률\n",
        "lr = 0.05\n",
        "\n",
        "# 시그모이드 함수\n",
        "def sigmoid(x):\n",
        "  return 1/(1+np.e**(-x))\n",
        "\n",
        "# 경사하강법\n",
        "for i in range(2001):\n",
        "  for x_data, y_data in data:\n",
        "    a_diff=x_data*(sigmoid(a*x_data+b)-y_data)\n",
        "    b_diff=sigmoid(a*x_data+b)-y_data\n",
        "\n",
        "    a = a-lr*a_diff\n",
        "    b = b-lr*b_diff\n",
        "\n",
        "    if i%1000 == 0 :\n",
        "      print('epoch=%.f, 기울기=%.04f, 절편=%.04f' % (i, a, b))"
      ],
      "execution_count": null,
      "outputs": [
        {
          "output_type": "stream",
          "text": [
            "epoch=0, 기울기=-0.0500, 절편=-0.0250\n",
            "epoch=0, 기울기=-0.1388, 절편=-0.0472\n",
            "epoch=0, 기울기=-0.2268, 절편=-0.0619\n",
            "epoch=0, 기울기=0.1201, 절편=-0.0185\n",
            "epoch=0, 기울기=0.2374, 절편=-0.0068\n",
            "epoch=0, 기울기=0.2705, 절편=-0.0040\n",
            "epoch=0, 기울기=0.2860, 절편=-0.0029\n",
            "epoch=1000, 기울기=1.4978, 절편=-9.9401\n",
            "epoch=1000, 기울기=1.4940, 절편=-9.9411\n",
            "epoch=1000, 기울기=1.4120, 절편=-9.9547\n",
            "epoch=1000, 기울기=1.4949, 절편=-9.9444\n",
            "epoch=1000, 기울기=1.4982, 절편=-9.9440\n",
            "epoch=1000, 기울기=1.4984, 절편=-9.9440\n",
            "epoch=1000, 기울기=1.4985, 절편=-9.9440\n",
            "epoch=2000, 기울기=1.9065, 절편=-12.9489\n",
            "epoch=2000, 기울기=1.9055, 절편=-12.9491\n",
            "epoch=2000, 기울기=1.8515, 절편=-12.9581\n",
            "epoch=2000, 기울기=1.9057, 절편=-12.9514\n",
            "epoch=2000, 기울기=1.9068, 절편=-12.9513\n",
            "epoch=2000, 기울기=1.9068, 절편=-12.9513\n",
            "epoch=2000, 기울기=1.9068, 절편=-12.9513\n"
          ],
          "name": "stdout"
        }
      ]
    },
    {
      "cell_type": "code",
      "metadata": {
        "id": "sMUZF4QrpNlC",
        "colab": {
          "base_uri": "https://localhost:8080/",
          "height": 265
        },
        "outputId": "c3a021f4-5dcd-4cbe-a76f-f2ba2c30c8ab"
      },
      "source": [
        "# 그림그리기\n",
        "plt.scatter(x_data, y_data)\n",
        "plt.xlim(0, 15)\n",
        "plt.ylim(-.1, 1.1)\n",
        "\n",
        "x_range=np.arange(0, 15, .1)\n",
        "plt.plot(np.arange(0, 15, .1), np.array([sigmoid(a*x+b) for x in x_range]))\n",
        "\n",
        "plt.show()"
      ],
      "execution_count": null,
      "outputs": [
        {
          "output_type": "display_data",
          "data": {
            "image/png": "[encoded data removed]",
            "text/plain": [
              "<Figure size 432x288 with 1 Axes>"
            ]
          },
          "metadata": {
            "tags": [],
            "needs_background": "light"
          }
        }
      ]
    }
  ]
}