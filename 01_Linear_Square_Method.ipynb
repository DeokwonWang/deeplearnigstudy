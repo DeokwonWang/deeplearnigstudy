{
  "nbformat": 4,
  "nbformat_minor": 0,
  "metadata": {
    "colab": {
      "name": "01_Linear_Square_Method.ipynb",
      "provenance": [],
      "collapsed_sections": [],
      "authorship_tag": "ABX9TyOg4CAqDtD4wZ1sKz4qA6VV",
      "include_colab_link": true
    },
    "kernelspec": {
      "name": "python3",
      "display_name": "Python 3"
    }
  },
  "cells": [
    {
      "cell_type": "markdown",
      "metadata": {
        "id": "view-in-github",
        "colab_type": "text"
      },
      "source": [
        "<a href=\"https://colab.research.google.com/github/DeokwonWang/deeplearnigstudy/blob/main/01_Linear_Square_Method.ipynb\" target=\"_parent\"><img src=\"https://colab.research.google.com/assets/colab-badge.svg\" alt=\"Open In Colab\"/></a>"
      ]
    },
    {
      "cell_type": "code",
      "metadata": {
        "id": "elpsXD2WIpg3",
        "colab": {
          "base_uri": "https://localhost:8080/",
          "height": 125
        },
        "outputId": "d8349131-8cb5-4c6b-f513-8d73eda96088"
      },
      "source": [
        "import numpy as np\n",
        "\n",
        "# x값과 y값\n",
        "x=[2, 4, 6, 8]\n",
        "y=[81, 93, 91, 97]\n",
        "\n",
        "# x와 y의 평균값\n",
        "mx=np.mean(x)\n",
        "my=np.mean(y)\n",
        "\n",
        "print('x의 평균값 : ', mx)\n",
        "print('y의 평균값 : ', my)\n",
        "\n",
        "# 기울기 공식의 분모\n",
        "divisor=sum([(i-mx)**2 for i in x])\n",
        "\n",
        "# 기울기 공식의 분자 \n",
        "def top(x, mx, y, my):\n",
        "  d=0\n",
        "  for i in range(len(x)):\n",
        "    d += (x[i]-mx)*(y[i]-my)\n",
        "  return d  \n",
        "\n",
        "dividend=top(x, mx, y, my)\n",
        "\n",
        "print('분모 : ', divisor)\n",
        "print('분자 : ', dividend)\n",
        "\n",
        "# 기울기와 y절편구하기\n",
        "a=dividend/divisor\n",
        "b=my-(mx*a)\n",
        "\n",
        "# 결과\n",
        "print(\"기울기 a = \",a)\n",
        "print(\"y 절편 b = \",b)"
      ],
      "execution_count": null,
      "outputs": [
        {
          "output_type": "stream",
          "text": [
            "x의 평균값 :  5.0\n",
            "y의 평균값 :  90.5\n",
            "분모 :  20.0\n",
            "분자 :  46.0\n",
            "기울기 a =  2.3\n",
            "y 절편 b =  79.0\n"
          ],
          "name": "stdout"
        }
      ]
    },
    {
      "cell_type": "code",
      "metadata": {
        "id": "TQT_c4a1KnP6"
      },
      "source": [
        ""
      ],
      "execution_count": null,
      "outputs": []
    }
  ]
}